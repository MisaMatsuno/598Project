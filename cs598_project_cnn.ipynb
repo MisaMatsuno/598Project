{
  "nbformat": 4,
  "nbformat_minor": 0,
  "metadata": {
    "colab": {
      "name": "cs598_project_cnn.ipynb",
      "provenance": [],
      "collapsed_sections": []
    },
    "kernelspec": {
      "name": "python3",
      "display_name": "Python 3"
    },
    "accelerator": "GPU"
  },
  "cells": [
    {
      "cell_type": "code",
      "metadata": {
        "colab_type": "code",
        "id": "Wv2oKmF9AJtI",
        "outputId": "69212a19-78c6-420e-f841-3b4d0db7032b",
        "colab": {
          "base_uri": "https://localhost:8080/",
          "height": 121
        }
      },
      "source": [
        "from google.colab import drive\n",
        "drive.mount('/content/gdrive/')"
      ],
      "execution_count": 0,
      "outputs": [
        {
          "output_type": "stream",
          "text": [
            "Go to this URL in a browser: https://accounts.google.com/o/oauth2/auth?client_id=947318989803-6bn6qk8qdgf4n4g3pfee6491hc0brc4i.apps.googleusercontent.com&redirect_uri=urn%3aietf%3awg%3aoauth%3a2.0%3aoob&response_type=code&scope=email%20https%3a%2f%2fwww.googleapis.com%2fauth%2fdocs.test%20https%3a%2f%2fwww.googleapis.com%2fauth%2fdrive%20https%3a%2f%2fwww.googleapis.com%2fauth%2fdrive.photos.readonly%20https%3a%2f%2fwww.googleapis.com%2fauth%2fpeopleapi.readonly\n",
            "\n",
            "Enter your authorization code:\n",
            "··········\n",
            "Mounted at /content/gdrive/\n"
          ],
          "name": "stdout"
        }
      ]
    },
    {
      "cell_type": "code",
      "metadata": {
        "id": "kKGxaMcmP_Et",
        "colab_type": "code",
        "outputId": "37b98fbe-ed8b-4ae3-bfbd-e2d8c259be93",
        "colab": {
          "base_uri": "https://localhost:8080/",
          "height": 34
        }
      },
      "source": [
        "ls gdrive"
      ],
      "execution_count": 0,
      "outputs": [
        {
          "output_type": "stream",
          "text": [
            "\u001b[0m\u001b[01;34m'My Drive'\u001b[0m/\n"
          ],
          "name": "stdout"
        }
      ]
    },
    {
      "cell_type": "code",
      "metadata": {
        "colab_type": "code",
        "id": "UA2-UyfpEc9O",
        "colab": {}
      },
      "source": [
        "import os\n",
        "os.chdir(\"/content/gdrive/My Drive/CS598\")"
      ],
      "execution_count": 0,
      "outputs": []
    },
    {
      "cell_type": "markdown",
      "metadata": {
        "id": "SJOCaUMilRz_",
        "colab_type": "text"
      },
      "source": [
        "# Copy data to local dir"
      ]
    },
    {
      "cell_type": "code",
      "metadata": {
        "id": "90MxG_eRla0W",
        "colab_type": "code",
        "colab": {}
      },
      "source": [
        "!mkdir /localdata\n",
        "!cp -r -a -n data/RADVESS/ /localdata\n",
        "!cp -r -a -n data/AudioData/ /localdata\n",
        "!cp -r -a -n data/TESS/ /localdata\n",
        "\n"
      ],
      "execution_count": 0,
      "outputs": []
    },
    {
      "cell_type": "code",
      "metadata": {
        "id": "XvFEFItpl98p",
        "colab_type": "code",
        "outputId": "4cd40312-90b8-430f-d58e-1054ec8f7fc7",
        "colab": {
          "base_uri": "https://localhost:8080/",
          "height": 34
        }
      },
      "source": [
        "ls /localdata/TESS"
      ],
      "execution_count": 0,
      "outputs": [
        {
          "output_type": "stream",
          "text": [
            "\u001b[0m\u001b[01;34m'TESS Toronto emotional speech set data'\u001b[0m/\n"
          ],
          "name": "stdout"
        }
      ]
    },
    {
      "cell_type": "code",
      "metadata": {
        "colab_type": "code",
        "id": "kjbQtzKT9Uc2",
        "outputId": "6889c291-9cef-4967-c1c4-72cc572ec148",
        "colab": {
          "base_uri": "https://localhost:8080/",
          "height": 302
        }
      },
      "source": [
        "!pip3 install torch torchvision\n",
        "!pip3 install librosa"
      ],
      "execution_count": 0,
      "outputs": [
        {
          "output_type": "stream",
          "text": [
            "Requirement already satisfied: torch in /usr/local/lib/python3.6/dist-packages (1.3.1)\n",
            "Requirement already satisfied: torchvision in /usr/local/lib/python3.6/dist-packages (0.4.2)\n",
            "Requirement already satisfied: numpy in /usr/local/lib/python3.6/dist-packages (from torch) (1.17.4)\n",
            "Requirement already satisfied: six in /usr/local/lib/python3.6/dist-packages (from torchvision) (1.12.0)\n",
            "Requirement already satisfied: pillow>=4.1.1 in /usr/local/lib/python3.6/dist-packages (from torchvision) (4.3.0)\n",
            "Requirement already satisfied: olefile in /usr/local/lib/python3.6/dist-packages (from pillow>=4.1.1->torchvision) (0.46)\n",
            "Requirement already satisfied: librosa in /usr/local/lib/python3.6/dist-packages (0.6.3)\n",
            "Requirement already satisfied: six>=1.3 in /usr/local/lib/python3.6/dist-packages (from librosa) (1.12.0)\n",
            "Requirement already satisfied: decorator>=3.0.0 in /usr/local/lib/python3.6/dist-packages (from librosa) (4.4.1)\n",
            "Requirement already satisfied: scikit-learn!=0.19.0,>=0.14.0 in /usr/local/lib/python3.6/dist-packages (from librosa) (0.21.3)\n",
            "Requirement already satisfied: scipy>=1.0.0 in /usr/local/lib/python3.6/dist-packages (from librosa) (1.3.3)\n",
            "Requirement already satisfied: numba>=0.38.0 in /usr/local/lib/python3.6/dist-packages (from librosa) (0.40.1)\n",
            "Requirement already satisfied: joblib>=0.12 in /usr/local/lib/python3.6/dist-packages (from librosa) (0.14.0)\n",
            "Requirement already satisfied: audioread>=2.0.0 in /usr/local/lib/python3.6/dist-packages (from librosa) (2.1.8)\n",
            "Requirement already satisfied: resampy>=0.2.0 in /usr/local/lib/python3.6/dist-packages (from librosa) (0.2.2)\n",
            "Requirement already satisfied: numpy>=1.8.0 in /usr/local/lib/python3.6/dist-packages (from librosa) (1.17.4)\n",
            "Requirement already satisfied: llvmlite>=0.25.0dev0 in /usr/local/lib/python3.6/dist-packages (from numba>=0.38.0->librosa) (0.30.0)\n"
          ],
          "name": "stdout"
        }
      ]
    },
    {
      "cell_type": "code",
      "metadata": {
        "id": "82eGxliQUpfW",
        "colab_type": "code",
        "outputId": "65269a04-602b-4492-d2eb-88433c4ecbe3",
        "colab": {
          "base_uri": "https://localhost:8080/",
          "height": 134
        }
      },
      "source": [
        "!pip3 install torch torchvision torchsummary"
      ],
      "execution_count": 0,
      "outputs": [
        {
          "output_type": "stream",
          "text": [
            "Requirement already satisfied: torch in /usr/local/lib/python3.6/dist-packages (1.3.1)\n",
            "Requirement already satisfied: torchvision in /usr/local/lib/python3.6/dist-packages (0.4.2)\n",
            "Requirement already satisfied: torchsummary in /usr/local/lib/python3.6/dist-packages (1.5.1)\n",
            "Requirement already satisfied: numpy in /usr/local/lib/python3.6/dist-packages (from torch) (1.17.4)\n",
            "Requirement already satisfied: pillow>=4.1.1 in /usr/local/lib/python3.6/dist-packages (from torchvision) (4.3.0)\n",
            "Requirement already satisfied: six in /usr/local/lib/python3.6/dist-packages (from torchvision) (1.12.0)\n",
            "Requirement already satisfied: olefile in /usr/local/lib/python3.6/dist-packages (from pillow>=4.1.1->torchvision) (0.46)\n"
          ],
          "name": "stdout"
        }
      ]
    },
    {
      "cell_type": "markdown",
      "metadata": {
        "colab_type": "text",
        "id": "u_BekZYY9Vzx"
      },
      "source": [
        "Make sure that pytorch is installed and works with GPU:"
      ]
    },
    {
      "cell_type": "code",
      "metadata": {
        "colab_type": "code",
        "id": "8TXSJWQa9efx",
        "outputId": "de6b8847-88ba-4d71-9bda-080b81b235cb",
        "colab": {
          "base_uri": "https://localhost:8080/",
          "height": 34
        }
      },
      "source": [
        "import torch\n",
        "a = torch.Tensor([1]).cuda()\n",
        "print(a)\n"
      ],
      "execution_count": 0,
      "outputs": [
        {
          "output_type": "stream",
          "text": [
            "tensor([1.], device='cuda:0')\n"
          ],
          "name": "stdout"
        }
      ]
    },
    {
      "cell_type": "code",
      "metadata": {
        "id": "xo0txeT04X3c",
        "colab_type": "code",
        "colab": {}
      },
      "source": [
        "import numpy as np\n",
        "import scipy.linalg as lg\n",
        "from scipy import signal\n",
        "import matplotlib.pyplot as plt\n",
        "import scipy.io.wavfile as wav\n",
        "import scipy\n",
        "import sys\n",
        "import os\n",
        "from random import shuffle\n",
        "import librosa\n",
        "import librosa.display\n",
        "import math"
      ],
      "execution_count": 0,
      "outputs": []
    },
    {
      "cell_type": "code",
      "metadata": {
        "id": "OEeRNsCjRXZK",
        "colab_type": "code",
        "outputId": "2fa5a7fa-d478-4f7e-9265-cb5cf2068c8b",
        "colab": {
          "base_uri": "https://localhost:8080/",
          "height": 34
        }
      },
      "source": [
        "torch.cuda.is_available()"
      ],
      "execution_count": 0,
      "outputs": [
        {
          "output_type": "execute_result",
          "data": {
            "text/plain": [
              "True"
            ]
          },
          "metadata": {
            "tags": []
          },
          "execution_count": 12
        }
      ]
    },
    {
      "cell_type": "code",
      "metadata": {
        "id": "-3yJHzFhp0Qo",
        "colab_type": "code",
        "colab": {}
      },
      "source": [
        "data_names = []\n",
        "data_labels = []\n",
        "data_mfccs = []\n",
        "test_feature = []\n",
        "test_label = []"
      ],
      "execution_count": 0,
      "outputs": []
    },
    {
      "cell_type": "code",
      "metadata": {
        "id": "XFIhYnKzp4PG",
        "colab_type": "code",
        "colab": {}
      },
      "source": [
        "emotionDict = {'happy': 0, 'sad': 1, 'angry': 2, 'fearful': 3}\n",
        "\n",
        "for dirs in os.listdir('/localdata/RADVESS/'):\n",
        "    # If file is not directory, continue\n",
        "    if os.path.isdir('/localdata/RADVESS/'+ dirs):\n",
        "      files = os.listdir('/localdata/RADVESS/'+ dirs)\n",
        "    else:\n",
        "      continue\n",
        "    if dirs[0:5] != 'Actor':\n",
        "      continue\n",
        "    inTest = False\n",
        "    if(dirs == 'Actor_01' or dirs =='Actor_02' or dirs == 'Actor_03' or dirs == 'Actor_04'):\n",
        "      inTest = True\n",
        "    for file in files:\n",
        "        f = file.split('-')\n",
        "        inEmotion = False\n",
        "        # if int(f[6][:2]) % 2 == 1: \n",
        "        if(f[2]=='03'):\n",
        "            if inTest == True:\n",
        "              test_label.append(emotionDict['happy'])\n",
        "            else:\n",
        "              data_labels.append(emotionDict['happy'])\n",
        "            inEmotion = True\n",
        "        elif(f[2]=='04'):\n",
        "            if inTest == True:\n",
        "              test_label.append(emotionDict['sad'])\n",
        "            else:\n",
        "              data_labels.append(emotionDict['sad'])\n",
        "            inEmotion = True\n",
        "        elif(f[2]=='05'):\n",
        "            if inTest == True:\n",
        "              test_label.append(emotionDict['angry'])\n",
        "            else:\n",
        "              data_labels.append(emotionDict['angry'])\n",
        "            inEmotion = True\n",
        "        elif(f[2]=='06'):\n",
        "            if inTest == True:\n",
        "              test_label.append(emotionDict['fearful'])\n",
        "            else:\n",
        "              data_labels.append(emotionDict['fearful'])\n",
        "            inEmotion = True\n",
        "        if inEmotion == True:\n",
        "            data_names.append(file)\n",
        "            # load data\n",
        "            data, sample_rate = librosa.load('/localdata/RADVESS/'+dirs+'/'+ file, res_type='kaiser_fast',duration=2.5,sr=22050*2,offset=0.5) # data is 110250\n",
        "            # get mfcc features\n",
        "            mfccs = librosa.feature.mfcc(y=data.astype(dtype=float), sr=sample_rate, n_mfcc=13) # 13 x 216\n",
        "            while mfccs.shape[1] < 216:\n",
        "              mfcc = np.concatenate((mfccs, mfccs), axis=1)\n",
        "              mfccs = mfcc[:,:216]\n",
        "            if inTest == True:\n",
        "              test_feature.append(mfccs)\n",
        "            else:\n",
        "              data_mfccs.append(mfccs)"
      ],
      "execution_count": 0,
      "outputs": []
    },
    {
      "cell_type": "code",
      "metadata": {
        "id": "TOe7zE4R0Q_A",
        "colab_type": "code",
        "outputId": "edb69c5d-7cb7-4d09-c31f-cfbaed2833d5",
        "colab": {
          "base_uri": "https://localhost:8080/",
          "height": 34
        }
      },
      "source": [
        "len(data_mfccs)"
      ],
      "execution_count": 0,
      "outputs": [
        {
          "output_type": "execute_result",
          "data": {
            "text/plain": [
              "640"
            ]
          },
          "metadata": {
            "tags": []
          },
          "execution_count": 145
        }
      ]
    },
    {
      "cell_type": "code",
      "metadata": {
        "id": "KD7I6Trcv5cG",
        "colab_type": "code",
        "colab": {}
      },
      "source": [
        "for dirs in os.listdir('/localdata/TESS/TESS Toronto emotional speech set data/'):\n",
        "  files = os.listdir('/localdata/TESS/TESS Toronto emotional speech set data/' + dirs)\n",
        "  for file in files:\n",
        "    inEmotion = False\n",
        "    f = file.split('_')\n",
        "    f = f[2].split('.')\n",
        "    if f[0] == 'happy':\n",
        "      data_labels.append(emotionDict['happy'])\n",
        "      inEmotion = True\n",
        "    elif f[0] == 'angry':\n",
        "      data_labels.append(emotionDict['angry'])\n",
        "      inEmotion = True\n",
        "    elif f[0] == 'fear':\n",
        "      data_labels.append(emotionDict['fearful'])\n",
        "      inEmotion = True\n",
        "    elif f[0] == 'sad':\n",
        "      data_labels.append(emotionDict['sad'])\n",
        "      inEmotion = True\n",
        "    if inEmotion == True:\n",
        "      #data_names.append(file)\n",
        "      # load data\n",
        "      data, sample_rate = librosa.load('/localdata/TESS/TESS Toronto emotional speech set data/'+dirs+'/'+ file, res_type='kaiser_fast',duration=2.5,sr=22050*2,offset=0.5) # data is 110250\n",
        "      # get mfcc features\n",
        "      mfccs = librosa.feature.mfcc(y=data.astype(dtype=float), sr=sample_rate, n_mfcc=13) # 13 x 216\n",
        "      while mfccs.shape[1] < 216:\n",
        "        mfcc = np.concatenate((mfccs, mfccs), axis=1)\n",
        "        mfccs = mfcc[:,:216]\n",
        "      data_mfccs.append(mfccs)"
      ],
      "execution_count": 0,
      "outputs": []
    },
    {
      "cell_type": "code",
      "metadata": {
        "id": "aXXLF9GGcbdN",
        "colab_type": "code",
        "colab": {}
      },
      "source": [
        "\n",
        "for dirs in os.listdir('/localdata/AudioData/'):\n",
        "  if os.path.isdir('/localdata/AudioData/'+ dirs):\n",
        "    files = os.listdir('/localdata/AudioData/'+ dirs)\n",
        "  else:\n",
        "    continue\n",
        "  inTest = False\n",
        "  # if(dirs == 'DC'):\n",
        "  #   inTest = True\n",
        "  for file in files:\n",
        "    inEmotion = False\n",
        "    if file[0] == 'h':\n",
        "      if inTest == True:\n",
        "        test_label.append(emotionDict['happy'])\n",
        "      else:\n",
        "        data_labels.append(emotionDict['happy'])\n",
        "      inEmotion = True\n",
        "    elif file[0] == 'a':\n",
        "      if inTest == True:\n",
        "        test_label.append(emotionDict['angry'])\n",
        "      else:\n",
        "        data_labels.append(emotionDict['angry'])\n",
        "      inEmotion = True\n",
        "    elif file[0] == 'f':\n",
        "      if inTest == True:\n",
        "        test_label.append(emotionDict['fearful'])\n",
        "      else:\n",
        "        data_labels.append(emotionDict['fearful'])\n",
        "      inEmotion = True\n",
        "    elif file[0:2] == 'sa':\n",
        "      if inTest == True:\n",
        "        test_label.append(emotionDict['sad'])\n",
        "      else:\n",
        "        data_labels.append(emotionDict['sad'])\n",
        "      inEmotion = True\n",
        "    if inEmotion == True:\n",
        "      # data_names.append(file)\n",
        "      # load data\n",
        "      data, sample_rate = librosa.load('/localdata/AudioData/'+dirs+'/'+ file, res_type='kaiser_fast',duration=2.5,sr=22050*2,offset=0.5) # data is 110250\n",
        "      # get mfcc features\n",
        "      mfccs = librosa.feature.mfcc(y=data.astype(dtype=float), sr=sample_rate, n_mfcc=13) # 13 x 216\n",
        "      while mfccs.shape[1] < 216:\n",
        "        mfcc = np.concatenate((mfccs, mfccs), axis=1)\n",
        "        mfccs = mfcc[:,:216]\n",
        "      if inTest == True:\n",
        "        test_feature.append(mfccs)\n",
        "      else:\n",
        "        data_mfccs.append(mfccs)\n",
        "    "
      ],
      "execution_count": 0,
      "outputs": []
    },
    {
      "cell_type": "code",
      "metadata": {
        "id": "naLR6qWWp7Si",
        "colab_type": "code",
        "outputId": "7d1a6662-dac7-4dfa-de37-7aa89648e013",
        "colab": {
          "base_uri": "https://localhost:8080/",
          "height": 34
        }
      },
      "source": [
        "# Convert 2d mfcc features to 1d\n",
        "features = data_mfccs # (216,)\n",
        "# features = features.astype(dtype='double')\n",
        "print(len(features), features[0].shape, len(data_names), len(data_labels))\n"
      ],
      "execution_count": 0,
      "outputs": [
        {
          "output_type": "stream",
          "text": [
            "2480 (13, 216) 768 2480\n"
          ],
          "name": "stdout"
        }
      ]
    },
    {
      "cell_type": "code",
      "metadata": {
        "id": "qTAZWvo83PWy",
        "colab_type": "code",
        "outputId": "40becb37-dd19-4616-fe67-3b581715087a",
        "colab": {
          "base_uri": "https://localhost:8080/",
          "height": 34
        }
      },
      "source": [
        "len(test_feature)"
      ],
      "execution_count": 0,
      "outputs": [
        {
          "output_type": "execute_result",
          "data": {
            "text/plain": [
              "128"
            ]
          },
          "metadata": {
            "tags": []
          },
          "execution_count": 149
        }
      ]
    },
    {
      "cell_type": "code",
      "metadata": {
        "id": "Ha0M8Krxp9RT",
        "colab_type": "code",
        "outputId": "a8b048be-42d2-46ef-b938-b28ffdc0eaaf",
        "colab": {
          "base_uri": "https://localhost:8080/",
          "height": 50
        }
      },
      "source": [
        "# shuffle data\n",
        "# z = list(zip(features, data_labels))\n",
        "rang = np.arange(0, len(features))\n",
        "shuffle(rang)\n",
        "shuffled_features = [features[i] for i in rang]\n",
        "shuffle_data_labels = [data_labels[i] for i in rang]\n",
        "\n",
        "# split data into train and test set\n",
        "totLen = len(features)\n",
        "train_feature = shuffled_features[0:int(totLen*0.9)]\n",
        "# test_feature = shuffled_features[int(totLen*0.8):int(totLen*0.9)]\n",
        "val_feature = shuffled_features[int(totLen*0.9):]\n",
        "\n",
        "train_label = shuffle_data_labels[0:int(totLen*0.9)]\n",
        "# test_label = shuffle_data_labels[int(totLen*0.8):int(totLen*0.9)]\n",
        "val_label = shuffle_data_labels[int(totLen*0.9):]\n",
        "print(len(train_feature),len(test_feature),len(train_label),len(test_label),len(val_feature), len(val_label))\n",
        "# Convert list to array\n",
        "train_feature = np.rollaxis(np.dstack(train_feature),-1)\n",
        "test_feature = np.rollaxis(np.dstack(test_feature),-1)\n",
        "val_feature = np.rollaxis(np.dstack(val_feature),-1)\n",
        "print((train_feature.shape), train_feature[0].shape, test_feature.shape, val_feature.shape)"
      ],
      "execution_count": 0,
      "outputs": [
        {
          "output_type": "stream",
          "text": [
            "2232 128 2232 128 248 248\n",
            "(2232, 13, 216) (13, 216) (128, 13, 216) (248, 13, 216)\n"
          ],
          "name": "stdout"
        }
      ]
    },
    {
      "cell_type": "code",
      "metadata": {
        "id": "EIJrfpQmp_Cv",
        "colab_type": "code",
        "colab": {}
      },
      "source": [
        "import torch.nn as nn\n",
        "import torch.nn.functional as F\n",
        "import torch\n",
        "import torch.utils.data\n",
        "# import torchvision\n",
        "# import torchvision.transforms as transforms\n",
        "\n",
        "from torch.autograd import Variable\n",
        "IS_GPU = True\n"
      ],
      "execution_count": 0,
      "outputs": []
    },
    {
      "cell_type": "code",
      "metadata": {
        "id": "mLHbpHM6qBFN",
        "colab_type": "code",
        "colab": {}
      },
      "source": [
        "class BaseNet(nn.Module):\n",
        "    def __init__(self):\n",
        "        super(BaseNet, self).__init__()\n",
        "    \n",
        "        self.conv_net = nn.Sequential(\n",
        "            nn.Conv1d(13, 256, kernel_size=5, padding=2), # (216 + 2*2 - 1*(5-1) - 1)/1+1= 216\n",
        "            nn.BatchNorm1d(256),\n",
        "            nn.ReLU(inplace=True),\n",
        "            nn.MaxPool1d(kernel_size=3), # 216/3=72\n",
        "            \n",
        "            nn.Conv1d(256, 512, kernel_size=5, padding=2), # (216 + 2*2 - 1*(5-1) - 1)/1+1= 216\n",
        "            nn.BatchNorm1d(512),\n",
        "            nn.ReLU(inplace=True),\n",
        "            nn.MaxPool1d(kernel_size=3), # 72/3=24\n",
        "            \n",
        "            nn.Dropout(p=0.1),\n",
        "\n",
        "            nn.Conv1d(512, 512, kernel_size=5, padding=2), # (216 + 2*2 - 1*(5-1) - 1)/1+1= 216\n",
        "            nn.BatchNorm1d(512),\n",
        "            nn.ReLU(inplace=True),\n",
        "            nn.MaxPool1d(kernel_size=3), # 24/3=8\n",
        "\n",
        "            nn.Conv1d(512, 512, kernel_size=5, padding=2), # (216 + 2*2 - 1*(5-1) - 1)/1+1= 216\n",
        "            nn.BatchNorm1d(512),\n",
        "            nn.ReLU(inplace=True),\n",
        "            nn.MaxPool1d(kernel_size=2), # 8/2=4\n",
        "            \n",
        "            nn.Flatten(),\n",
        "\n",
        "\n",
        "        )\n",
        "\n",
        "        # Add more linear (fc) layers\n",
        "        # Add normalization layers after linear and\n",
        "        # experiment inserting them before or after ReLU (nn.BatchNorm1d)\n",
        "        \n",
        "        self.fc_net = nn.Sequential(\n",
        "            # nn.Linear(4*1024, 2*1024),\n",
        "            # nn.ReLU(inplace=True),\n",
        "            # nn.BatchNorm1d(2*1024),\n",
        "\n",
        "            # nn.Linear(2*256, 256),\n",
        "            # nn.ReLU(inplace=True),\n",
        "            # nn.BatchNorm1d(256),\n",
        "\n",
        "\n",
        "            nn.Linear(512*4, 4),\n",
        "            nn.BatchNorm1d(4),\n",
        "            # nn.Softmax(),\n",
        "        )\n",
        "\n",
        "    def forward(self, x):\n",
        "        x = self.conv_net(x)\n",
        "        x = self.fc_net(x)\n",
        "        return x\n",
        "\n",
        "# Create an instance of the nn.module class defined above:\n",
        "net = BaseNet()\n",
        "net = net.float()\n",
        "if IS_GPU:\n",
        "    net = net.cuda()"
      ],
      "execution_count": 0,
      "outputs": []
    },
    {
      "cell_type": "code",
      "metadata": {
        "id": "Gc5t-q2wUwIR",
        "colab_type": "code",
        "outputId": "f0c34f14-6f23-4e6a-aaed-ac80d7066566",
        "colab": {
          "base_uri": "https://localhost:8080/",
          "height": 571
        }
      },
      "source": [
        "from torchsummary import summary\n",
        "summary(net, (13,216), 32)"
      ],
      "execution_count": 0,
      "outputs": [
        {
          "output_type": "stream",
          "text": [
            "----------------------------------------------------------------\n",
            "        Layer (type)               Output Shape         Param #\n",
            "================================================================\n",
            "            Conv1d-1             [32, 256, 216]          16,896\n",
            "       BatchNorm1d-2             [32, 256, 216]             512\n",
            "              ReLU-3             [32, 256, 216]               0\n",
            "         MaxPool1d-4              [32, 256, 72]               0\n",
            "            Conv1d-5              [32, 512, 72]         655,872\n",
            "       BatchNorm1d-6              [32, 512, 72]           1,024\n",
            "              ReLU-7              [32, 512, 72]               0\n",
            "         MaxPool1d-8              [32, 512, 24]               0\n",
            "           Dropout-9              [32, 512, 24]               0\n",
            "           Conv1d-10              [32, 512, 24]       1,311,232\n",
            "      BatchNorm1d-11              [32, 512, 24]           1,024\n",
            "             ReLU-12              [32, 512, 24]               0\n",
            "        MaxPool1d-13               [32, 512, 8]               0\n",
            "           Conv1d-14               [32, 512, 8]       1,311,232\n",
            "      BatchNorm1d-15               [32, 512, 8]           1,024\n",
            "             ReLU-16               [32, 512, 8]               0\n",
            "        MaxPool1d-17               [32, 512, 4]               0\n",
            "          Flatten-18                 [32, 2048]               0\n",
            "           Linear-19                    [32, 4]           8,196\n",
            "      BatchNorm1d-20                    [32, 4]               8\n",
            "================================================================\n",
            "Total params: 3,307,020\n",
            "Trainable params: 3,307,020\n",
            "Non-trainable params: 0\n",
            "----------------------------------------------------------------\n",
            "Input size (MB): 0.34\n",
            "Forward/backward pass size (MB): 92.00\n",
            "Params size (MB): 12.62\n",
            "Estimated Total Size (MB): 104.96\n",
            "----------------------------------------------------------------\n"
          ],
          "name": "stdout"
        }
      ]
    },
    {
      "cell_type": "code",
      "metadata": {
        "id": "ocdFNJblqDRL",
        "colab_type": "code",
        "colab": {}
      },
      "source": [
        "import torch.optim as optim\n",
        "criterion = nn.CrossEntropyLoss()\n",
        "\n",
        "# optimizer = optim.SGD(net.parameters(), lr=0.00001, momentum=0.9)\n",
        "optimizer = optim.RMSprop(net.parameters(), lr=0.00001, weight_decay=1e-6)\n",
        "# optimizer = optim.Adadelta(net.parameters(),lr=0.002)\n",
        "\n",
        "plt.ioff()\n",
        "fig = plt.figure()\n",
        "train_loss_over_epochs = []\n",
        "val_accuracy_over_epochs = []"
      ],
      "execution_count": 0,
      "outputs": []
    },
    {
      "cell_type": "code",
      "metadata": {
        "id": "eu5Im3mYziua",
        "colab_type": "code",
        "colab": {}
      },
      "source": [
        "def calculate_val_accuracy(is_gpu):\n",
        "    correct = 0.\n",
        "    total = 0.\n",
        "    predictions = []\n",
        "\n",
        "    class_correct = list(0. for i in range(4))\n",
        "    class_total = list(0. for i in range(4))\n",
        "\n",
        "    for i in range(math.ceil(test_feature.shape[0]/n_batches)):\n",
        "    # Local batches and labels\n",
        "      if (i+1)*n_batches > test_feature.shape[0]:\n",
        "          testData, labels = val_feature[i*n_batches:,:], val_label[i*n_batches:]\n",
        "      else:\n",
        "          testData, labels = val_feature[i*n_batches:(i+1)*n_batches,:], val_label[i*n_batches:(i+1)*n_batches]\n",
        "\n",
        "      inputs = torch.from_numpy(testData)\n",
        "      #inputs = torch.unsqueeze(testData,1)\n",
        "      labels = torch.from_numpy(np.array(labels))\n",
        "\n",
        "      if IS_GPU:\n",
        "          inputs = inputs.cuda()\n",
        "          labels = labels.cuda()\n",
        "\n",
        "      inputs = Variable((inputs))\n",
        "      labels = Variable(((labels)))\n",
        "      \n",
        "      outputs = net(inputs.float())\n",
        "      _, predicted = torch.max(outputs.data, 1)\n",
        "      predictions.extend(list(predicted.cpu().numpy()))\n",
        "\n",
        "      total += labels.size(0)\n",
        "      correct += (predicted == labels).sum()\n",
        "\n",
        "      c = (predicted == labels).squeeze()\n",
        "      for i in range(len(labels)):\n",
        "          label = labels[i]\n",
        "          class_correct[label] += c[i]\n",
        "          class_total[label] += 1\n",
        "\n",
        "    class_accuracy = 100 * np.divide(class_correct, class_total)\n",
        "    return 100*correct/total, class_accuracy"
      ],
      "execution_count": 0,
      "outputs": []
    },
    {
      "cell_type": "code",
      "metadata": {
        "id": "kNJydigDqFJT",
        "colab_type": "code",
        "outputId": "4c6c36db-8c3e-4fae-9b0c-3d47e8af7a58",
        "colab": {
          "base_uri": "https://localhost:8080/",
          "height": 1000
        }
      },
      "source": [
        "# Train the network\n",
        "n_batches = 30\n",
        "EPOCHS = 300\n",
        "\n",
        "for epoch in range(EPOCHS):  # loop over the dataset multiple times\n",
        "\n",
        "    running_loss = 0.0\n",
        "    for i in range(math.ceil(train_feature.shape[0]/n_batches)):\n",
        "        # Local batches and labels\n",
        "        if (i+1)*n_batches > train_feature.shape[0]:\n",
        "            inputs, labels = train_feature[i*n_batches:,:], train_label[i*n_batches:]\n",
        "        else:\n",
        "            inputs, labels = train_feature[i*n_batches:(i+1)*n_batches,:], train_label[i*n_batches:(i+1)*n_batches]\n",
        "\n",
        "        inputs = torch.from_numpy(inputs)\n",
        "        # print(inputs.shape)\n",
        "        labels = torch.from_numpy(np.array(labels))\n",
        "\n",
        "        if IS_GPU:\n",
        "            inputs = inputs.cuda()\n",
        "            labels = labels.cuda()\n",
        "\n",
        "        # wrap them in Variable\n",
        "        inputs = Variable((inputs))\n",
        "        labels = Variable(((labels)))\n",
        "\n",
        "        # zero the parameter gradients\n",
        "        optimizer.zero_grad()\n",
        "\n",
        "        # forward + backward + optimize\n",
        "        # inputs = torch.unsqueeze(inputs,1)\n",
        "        outputs = net(inputs.float())\n",
        "        loss = criterion(outputs, labels.long())\n",
        "        loss.backward()\n",
        "        optimizer.step()\n",
        "\n",
        "        # print statistics\n",
        "        running_loss += loss.item()\n",
        "    \n",
        "    # Normalizing the loss by the total number of train batches\n",
        "    running_loss/=int(train_feature.shape[0]/n_batches)+1\n",
        "    print('[%d] loss: %.3f' %\n",
        "          (epoch + 1, running_loss))\n",
        "\n",
        "    # Scale of 0.0 to 100.0\n",
        "    # Calculate validation set accuracy of the existing model\n",
        "    val_accuracy, val_classwise_accuracy = \\\n",
        "        calculate_val_accuracy(IS_GPU)\n",
        "    print('Accuracy of the network on the val images: %d %%' % (val_accuracy))\n",
        "\n",
        "    train_loss_over_epochs.append(running_loss)\n",
        "    val_accuracy_over_epochs.append(val_accuracy)\n",
        "\n",
        "f, axes = plt.subplots(2, 1, figsize=(15,4))\n",
        "f.tight_layout()\n",
        "# plt.subplot(2, 1, 1)\n",
        "axes[0].set_ylabel('Train loss')\n",
        "axes[0].plot(np.arange(EPOCHS), train_loss_over_epochs, '-*', color='orange')\n",
        "axes[0].set_title('train loss and val accuracy')\n",
        "axes[0].set_xticks(np.arange(EPOCHS, dtype=int, step=10))\n",
        "axes[0].grid(True)\n",
        "axes[0].figure.savefig(\"loss.png\")\n",
        "\n",
        "acc_lst = [x.item() for x in val_accuracy_over_epochs]\n",
        "max_idx = np.argmax(acc_lst)\n",
        "# plt.subplot(2, 1, 2, figsize=(20,4))\n",
        "markers_on = [max_idx]\n",
        "axes[1].autoscale(axis='y')\n",
        "axes[1].plot(np.arange(EPOCHS), val_accuracy_over_epochs, '-bD', markevery=markers_on)\n",
        "axes[1].text(max_idx, val_accuracy_over_epochs[max_idx].item(), str(format(val_accuracy_over_epochs[max_idx].item(), \".2f\")+\"%\"), fontsize=13)\n",
        "axes[1].set_ylabel('Val accuracy')\n",
        "axes[1].set_xlabel('Epochs')\n",
        "axes[1].set_xticks(np.arange(EPOCHS, dtype=int, step=10))\n",
        "axes[1].grid(True)\n",
        "axes[1].figure.savefig(\"accuracy.png\")\n",
        "# axes[1].close(fig)\n",
        "plt.show()\n",
        "print('Finished Training')\n"
      ],
      "execution_count": 0,
      "outputs": [
        {
          "output_type": "stream",
          "text": [
            "[1] loss: 0.753\n",
            "Accuracy of the network on the val images: 80 %\n",
            "[2] loss: 0.558\n",
            "Accuracy of the network on the val images: 81 %\n",
            "[3] loss: 0.501\n",
            "Accuracy of the network on the val images: 83 %\n",
            "[4] loss: 0.472\n",
            "Accuracy of the network on the val images: 85 %\n",
            "[5] loss: 0.441\n",
            "Accuracy of the network on the val images: 85 %\n",
            "[6] loss: 0.417\n",
            "Accuracy of the network on the val images: 84 %\n",
            "[7] loss: 0.405\n",
            "Accuracy of the network on the val images: 85 %\n",
            "[8] loss: 0.389\n",
            "Accuracy of the network on the val images: 87 %\n",
            "[9] loss: 0.379\n",
            "Accuracy of the network on the val images: 87 %\n",
            "[10] loss: 0.369\n",
            "Accuracy of the network on the val images: 87 %\n",
            "[11] loss: 0.360\n",
            "Accuracy of the network on the val images: 85 %\n",
            "[12] loss: 0.356\n",
            "Accuracy of the network on the val images: 88 %\n",
            "[13] loss: 0.352\n",
            "Accuracy of the network on the val images: 88 %\n",
            "[14] loss: 0.342\n",
            "Accuracy of the network on the val images: 90 %\n",
            "[15] loss: 0.340\n",
            "Accuracy of the network on the val images: 90 %\n",
            "[16] loss: 0.335\n",
            "Accuracy of the network on the val images: 87 %\n",
            "[17] loss: 0.332\n",
            "Accuracy of the network on the val images: 89 %\n",
            "[18] loss: 0.327\n",
            "Accuracy of the network on the val images: 88 %\n",
            "[19] loss: 0.326\n",
            "Accuracy of the network on the val images: 85 %\n",
            "[20] loss: 0.321\n",
            "Accuracy of the network on the val images: 88 %\n",
            "[21] loss: 0.319\n",
            "Accuracy of the network on the val images: 91 %\n",
            "[22] loss: 0.318\n",
            "Accuracy of the network on the val images: 90 %\n",
            "[23] loss: 0.316\n",
            "Accuracy of the network on the val images: 88 %\n",
            "[24] loss: 0.313\n",
            "Accuracy of the network on the val images: 90 %\n",
            "[25] loss: 0.311\n",
            "Accuracy of the network on the val images: 90 %\n",
            "[26] loss: 0.309\n",
            "Accuracy of the network on the val images: 90 %\n",
            "[27] loss: 0.307\n",
            "Accuracy of the network on the val images: 89 %\n",
            "[28] loss: 0.306\n",
            "Accuracy of the network on the val images: 91 %\n",
            "[29] loss: 0.304\n",
            "Accuracy of the network on the val images: 89 %\n",
            "[30] loss: 0.304\n",
            "Accuracy of the network on the val images: 90 %\n",
            "[31] loss: 0.302\n",
            "Accuracy of the network on the val images: 90 %\n",
            "[32] loss: 0.301\n",
            "Accuracy of the network on the val images: 89 %\n",
            "[33] loss: 0.300\n",
            "Accuracy of the network on the val images: 89 %\n",
            "[34] loss: 0.299\n",
            "Accuracy of the network on the val images: 90 %\n",
            "[35] loss: 0.297\n",
            "Accuracy of the network on the val images: 91 %\n",
            "[36] loss: 0.296\n",
            "Accuracy of the network on the val images: 89 %\n",
            "[37] loss: 0.296\n",
            "Accuracy of the network on the val images: 90 %\n",
            "[38] loss: 0.294\n",
            "Accuracy of the network on the val images: 90 %\n",
            "[39] loss: 0.294\n",
            "Accuracy of the network on the val images: 90 %\n",
            "[40] loss: 0.293\n",
            "Accuracy of the network on the val images: 89 %\n",
            "[41] loss: 0.292\n",
            "Accuracy of the network on the val images: 88 %\n",
            "[42] loss: 0.291\n",
            "Accuracy of the network on the val images: 91 %\n",
            "[43] loss: 0.290\n",
            "Accuracy of the network on the val images: 89 %\n",
            "[44] loss: 0.290\n",
            "Accuracy of the network on the val images: 91 %\n",
            "[45] loss: 0.288\n",
            "Accuracy of the network on the val images: 89 %\n",
            "[46] loss: 0.287\n",
            "Accuracy of the network on the val images: 89 %\n",
            "[47] loss: 0.287\n",
            "Accuracy of the network on the val images: 91 %\n",
            "[48] loss: 0.286\n",
            "Accuracy of the network on the val images: 91 %\n",
            "[49] loss: 0.286\n",
            "Accuracy of the network on the val images: 90 %\n",
            "[50] loss: 0.284\n",
            "Accuracy of the network on the val images: 89 %\n",
            "[51] loss: 0.284\n",
            "Accuracy of the network on the val images: 90 %\n",
            "[52] loss: 0.284\n",
            "Accuracy of the network on the val images: 89 %\n",
            "[53] loss: 0.283\n",
            "Accuracy of the network on the val images: 91 %\n",
            "[54] loss: 0.283\n",
            "Accuracy of the network on the val images: 90 %\n",
            "[55] loss: 0.281\n",
            "Accuracy of the network on the val images: 90 %\n",
            "[56] loss: 0.281\n",
            "Accuracy of the network on the val images: 89 %\n",
            "[57] loss: 0.280\n",
            "Accuracy of the network on the val images: 90 %\n",
            "[58] loss: 0.280\n",
            "Accuracy of the network on the val images: 89 %\n",
            "[59] loss: 0.279\n",
            "Accuracy of the network on the val images: 91 %\n",
            "[60] loss: 0.278\n",
            "Accuracy of the network on the val images: 89 %\n",
            "[61] loss: 0.278\n",
            "Accuracy of the network on the val images: 91 %\n",
            "[62] loss: 0.277\n",
            "Accuracy of the network on the val images: 93 %\n",
            "[63] loss: 0.277\n",
            "Accuracy of the network on the val images: 91 %\n",
            "[64] loss: 0.276\n",
            "Accuracy of the network on the val images: 91 %\n",
            "[65] loss: 0.276\n",
            "Accuracy of the network on the val images: 91 %\n",
            "[66] loss: 0.275\n",
            "Accuracy of the network on the val images: 91 %\n",
            "[67] loss: 0.274\n",
            "Accuracy of the network on the val images: 90 %\n",
            "[68] loss: 0.274\n",
            "Accuracy of the network on the val images: 89 %\n",
            "[69] loss: 0.274\n",
            "Accuracy of the network on the val images: 89 %\n",
            "[70] loss: 0.273\n",
            "Accuracy of the network on the val images: 91 %\n",
            "[71] loss: 0.272\n",
            "Accuracy of the network on the val images: 90 %\n",
            "[72] loss: 0.272\n",
            "Accuracy of the network on the val images: 89 %\n",
            "[73] loss: 0.271\n",
            "Accuracy of the network on the val images: 91 %\n",
            "[74] loss: 0.271\n",
            "Accuracy of the network on the val images: 91 %\n",
            "[75] loss: 0.271\n",
            "Accuracy of the network on the val images: 89 %\n",
            "[76] loss: 0.270\n",
            "Accuracy of the network on the val images: 88 %\n",
            "[77] loss: 0.269\n",
            "Accuracy of the network on the val images: 90 %\n",
            "[78] loss: 0.269\n",
            "Accuracy of the network on the val images: 91 %\n",
            "[79] loss: 0.269\n",
            "Accuracy of the network on the val images: 90 %\n",
            "[80] loss: 0.268\n",
            "Accuracy of the network on the val images: 88 %\n",
            "[81] loss: 0.267\n",
            "Accuracy of the network on the val images: 91 %\n",
            "[82] loss: 0.267\n",
            "Accuracy of the network on the val images: 90 %\n",
            "[83] loss: 0.267\n",
            "Accuracy of the network on the val images: 91 %\n",
            "[84] loss: 0.266\n",
            "Accuracy of the network on the val images: 91 %\n",
            "[85] loss: 0.266\n",
            "Accuracy of the network on the val images: 91 %\n",
            "[86] loss: 0.265\n",
            "Accuracy of the network on the val images: 90 %\n",
            "[87] loss: 0.265\n",
            "Accuracy of the network on the val images: 89 %\n",
            "[88] loss: 0.265\n",
            "Accuracy of the network on the val images: 90 %\n",
            "[89] loss: 0.264\n",
            "Accuracy of the network on the val images: 90 %\n",
            "[90] loss: 0.264\n",
            "Accuracy of the network on the val images: 91 %\n",
            "[91] loss: 0.263\n",
            "Accuracy of the network on the val images: 91 %\n",
            "[92] loss: 0.263\n",
            "Accuracy of the network on the val images: 90 %\n",
            "[93] loss: 0.262\n",
            "Accuracy of the network on the val images: 91 %\n",
            "[94] loss: 0.262\n",
            "Accuracy of the network on the val images: 92 %\n",
            "[95] loss: 0.261\n",
            "Accuracy of the network on the val images: 91 %\n",
            "[96] loss: 0.261\n",
            "Accuracy of the network on the val images: 90 %\n",
            "[97] loss: 0.260\n",
            "Accuracy of the network on the val images: 91 %\n",
            "[98] loss: 0.260\n",
            "Accuracy of the network on the val images: 89 %\n",
            "[99] loss: 0.259\n",
            "Accuracy of the network on the val images: 90 %\n",
            "[100] loss: 0.259\n",
            "Accuracy of the network on the val images: 90 %\n",
            "[101] loss: 0.259\n",
            "Accuracy of the network on the val images: 90 %\n",
            "[102] loss: 0.259\n",
            "Accuracy of the network on the val images: 91 %\n",
            "[103] loss: 0.258\n",
            "Accuracy of the network on the val images: 91 %\n",
            "[104] loss: 0.257\n",
            "Accuracy of the network on the val images: 92 %\n",
            "[105] loss: 0.257\n",
            "Accuracy of the network on the val images: 92 %\n",
            "[106] loss: 0.257\n",
            "Accuracy of the network on the val images: 90 %\n",
            "[107] loss: 0.256\n",
            "Accuracy of the network on the val images: 93 %\n",
            "[108] loss: 0.256\n",
            "Accuracy of the network on the val images: 89 %\n",
            "[109] loss: 0.256\n",
            "Accuracy of the network on the val images: 91 %\n",
            "[110] loss: 0.255\n",
            "Accuracy of the network on the val images: 91 %\n",
            "[111] loss: 0.255\n",
            "Accuracy of the network on the val images: 90 %\n",
            "[112] loss: 0.254\n",
            "Accuracy of the network on the val images: 91 %\n",
            "[113] loss: 0.254\n",
            "Accuracy of the network on the val images: 91 %\n",
            "[114] loss: 0.254\n",
            "Accuracy of the network on the val images: 91 %\n",
            "[115] loss: 0.253\n",
            "Accuracy of the network on the val images: 90 %\n",
            "[116] loss: 0.253\n",
            "Accuracy of the network on the val images: 91 %\n",
            "[117] loss: 0.252\n",
            "Accuracy of the network on the val images: 90 %\n",
            "[118] loss: 0.252\n",
            "Accuracy of the network on the val images: 90 %\n",
            "[119] loss: 0.252\n",
            "Accuracy of the network on the val images: 91 %\n",
            "[120] loss: 0.251\n",
            "Accuracy of the network on the val images: 90 %\n",
            "[121] loss: 0.251\n",
            "Accuracy of the network on the val images: 90 %\n",
            "[122] loss: 0.250\n",
            "Accuracy of the network on the val images: 91 %\n",
            "[123] loss: 0.250\n",
            "Accuracy of the network on the val images: 91 %\n",
            "[124] loss: 0.250\n",
            "Accuracy of the network on the val images: 92 %\n",
            "[125] loss: 0.249\n",
            "Accuracy of the network on the val images: 90 %\n",
            "[126] loss: 0.249\n",
            "Accuracy of the network on the val images: 90 %\n",
            "[127] loss: 0.248\n",
            "Accuracy of the network on the val images: 90 %\n",
            "[128] loss: 0.248\n",
            "Accuracy of the network on the val images: 91 %\n",
            "[129] loss: 0.248\n",
            "Accuracy of the network on the val images: 91 %\n",
            "[130] loss: 0.247\n",
            "Accuracy of the network on the val images: 89 %\n",
            "[131] loss: 0.247\n",
            "Accuracy of the network on the val images: 89 %\n",
            "[132] loss: 0.247\n",
            "Accuracy of the network on the val images: 91 %\n",
            "[133] loss: 0.246\n",
            "Accuracy of the network on the val images: 91 %\n",
            "[134] loss: 0.246\n",
            "Accuracy of the network on the val images: 91 %\n",
            "[135] loss: 0.245\n",
            "Accuracy of the network on the val images: 90 %\n",
            "[136] loss: 0.245\n",
            "Accuracy of the network on the val images: 89 %\n",
            "[137] loss: 0.245\n",
            "Accuracy of the network on the val images: 91 %\n",
            "[138] loss: 0.244\n",
            "Accuracy of the network on the val images: 90 %\n",
            "[139] loss: 0.244\n",
            "Accuracy of the network on the val images: 91 %\n",
            "[140] loss: 0.244\n",
            "Accuracy of the network on the val images: 91 %\n",
            "[141] loss: 0.243\n",
            "Accuracy of the network on the val images: 92 %\n",
            "[142] loss: 0.243\n",
            "Accuracy of the network on the val images: 92 %\n",
            "[143] loss: 0.243\n",
            "Accuracy of the network on the val images: 90 %\n",
            "[144] loss: 0.242\n",
            "Accuracy of the network on the val images: 91 %\n",
            "[145] loss: 0.242\n",
            "Accuracy of the network on the val images: 91 %\n",
            "[146] loss: 0.241\n",
            "Accuracy of the network on the val images: 91 %\n",
            "[147] loss: 0.241\n",
            "Accuracy of the network on the val images: 91 %\n",
            "[148] loss: 0.241\n",
            "Accuracy of the network on the val images: 90 %\n",
            "[149] loss: 0.241\n",
            "Accuracy of the network on the val images: 91 %\n",
            "[150] loss: 0.240\n",
            "Accuracy of the network on the val images: 91 %\n",
            "[151] loss: 0.240\n",
            "Accuracy of the network on the val images: 91 %\n",
            "[152] loss: 0.239\n",
            "Accuracy of the network on the val images: 91 %\n",
            "[153] loss: 0.239\n",
            "Accuracy of the network on the val images: 90 %\n",
            "[154] loss: 0.239\n",
            "Accuracy of the network on the val images: 89 %\n",
            "[155] loss: 0.238\n",
            "Accuracy of the network on the val images: 91 %\n",
            "[156] loss: 0.238\n",
            "Accuracy of the network on the val images: 90 %\n",
            "[157] loss: 0.238\n",
            "Accuracy of the network on the val images: 91 %\n",
            "[158] loss: 0.237\n",
            "Accuracy of the network on the val images: 91 %\n",
            "[159] loss: 0.237\n",
            "Accuracy of the network on the val images: 90 %\n",
            "[160] loss: 0.237\n",
            "Accuracy of the network on the val images: 91 %\n",
            "[161] loss: 0.236\n",
            "Accuracy of the network on the val images: 91 %\n",
            "[162] loss: 0.236\n",
            "Accuracy of the network on the val images: 91 %\n",
            "[163] loss: 0.235\n",
            "Accuracy of the network on the val images: 90 %\n",
            "[164] loss: 0.235\n",
            "Accuracy of the network on the val images: 90 %\n",
            "[165] loss: 0.235\n",
            "Accuracy of the network on the val images: 90 %\n",
            "[166] loss: 0.234\n",
            "Accuracy of the network on the val images: 90 %\n",
            "[167] loss: 0.234\n",
            "Accuracy of the network on the val images: 90 %\n",
            "[168] loss: 0.234\n",
            "Accuracy of the network on the val images: 89 %\n",
            "[169] loss: 0.233\n",
            "Accuracy of the network on the val images: 90 %\n",
            "[170] loss: 0.233\n",
            "Accuracy of the network on the val images: 89 %\n",
            "[171] loss: 0.233\n",
            "Accuracy of the network on the val images: 89 %\n",
            "[172] loss: 0.232\n",
            "Accuracy of the network on the val images: 91 %\n",
            "[173] loss: 0.232\n",
            "Accuracy of the network on the val images: 90 %\n",
            "[174] loss: 0.232\n",
            "Accuracy of the network on the val images: 89 %\n",
            "[175] loss: 0.231\n",
            "Accuracy of the network on the val images: 91 %\n",
            "[176] loss: 0.231\n",
            "Accuracy of the network on the val images: 90 %\n",
            "[177] loss: 0.231\n",
            "Accuracy of the network on the val images: 91 %\n",
            "[178] loss: 0.230\n",
            "Accuracy of the network on the val images: 90 %\n",
            "[179] loss: 0.230\n",
            "Accuracy of the network on the val images: 90 %\n",
            "[180] loss: 0.230\n",
            "Accuracy of the network on the val images: 90 %\n",
            "[181] loss: 0.229\n",
            "Accuracy of the network on the val images: 90 %\n",
            "[182] loss: 0.229\n",
            "Accuracy of the network on the val images: 91 %\n",
            "[183] loss: 0.229\n",
            "Accuracy of the network on the val images: 91 %\n",
            "[184] loss: 0.228\n",
            "Accuracy of the network on the val images: 90 %\n",
            "[185] loss: 0.228\n",
            "Accuracy of the network on the val images: 89 %\n",
            "[186] loss: 0.228\n",
            "Accuracy of the network on the val images: 90 %\n",
            "[187] loss: 0.227\n",
            "Accuracy of the network on the val images: 92 %\n",
            "[188] loss: 0.227\n",
            "Accuracy of the network on the val images: 89 %\n",
            "[189] loss: 0.227\n",
            "Accuracy of the network on the val images: 91 %\n",
            "[190] loss: 0.226\n",
            "Accuracy of the network on the val images: 89 %\n",
            "[191] loss: 0.226\n",
            "Accuracy of the network on the val images: 90 %\n",
            "[192] loss: 0.226\n",
            "Accuracy of the network on the val images: 90 %\n",
            "[193] loss: 0.225\n",
            "Accuracy of the network on the val images: 90 %\n",
            "[194] loss: 0.225\n",
            "Accuracy of the network on the val images: 89 %\n",
            "[195] loss: 0.225\n",
            "Accuracy of the network on the val images: 89 %\n",
            "[196] loss: 0.224\n",
            "Accuracy of the network on the val images: 90 %\n",
            "[197] loss: 0.224\n",
            "Accuracy of the network on the val images: 91 %\n",
            "[198] loss: 0.224\n",
            "Accuracy of the network on the val images: 91 %\n",
            "[199] loss: 0.224\n",
            "Accuracy of the network on the val images: 89 %\n",
            "[200] loss: 0.223\n",
            "Accuracy of the network on the val images: 90 %\n",
            "[201] loss: 0.223\n",
            "Accuracy of the network on the val images: 90 %\n",
            "[202] loss: 0.223\n",
            "Accuracy of the network on the val images: 91 %\n",
            "[203] loss: 0.222\n",
            "Accuracy of the network on the val images: 91 %\n",
            "[204] loss: 0.222\n",
            "Accuracy of the network on the val images: 91 %\n",
            "[205] loss: 0.222\n",
            "Accuracy of the network on the val images: 91 %\n",
            "[206] loss: 0.221\n",
            "Accuracy of the network on the val images: 91 %\n",
            "[207] loss: 0.221\n",
            "Accuracy of the network on the val images: 90 %\n",
            "[208] loss: 0.221\n",
            "Accuracy of the network on the val images: 89 %\n",
            "[209] loss: 0.220\n",
            "Accuracy of the network on the val images: 90 %\n",
            "[210] loss: 0.220\n",
            "Accuracy of the network on the val images: 92 %\n",
            "[211] loss: 0.220\n",
            "Accuracy of the network on the val images: 91 %\n",
            "[212] loss: 0.219\n",
            "Accuracy of the network on the val images: 91 %\n",
            "[213] loss: 0.219\n",
            "Accuracy of the network on the val images: 91 %\n",
            "[214] loss: 0.219\n",
            "Accuracy of the network on the val images: 90 %\n",
            "[215] loss: 0.218\n",
            "Accuracy of the network on the val images: 91 %\n",
            "[216] loss: 0.218\n",
            "Accuracy of the network on the val images: 91 %\n",
            "[217] loss: 0.218\n",
            "Accuracy of the network on the val images: 91 %\n",
            "[218] loss: 0.218\n",
            "Accuracy of the network on the val images: 91 %\n",
            "[219] loss: 0.217\n",
            "Accuracy of the network on the val images: 92 %\n",
            "[220] loss: 0.217\n",
            "Accuracy of the network on the val images: 91 %\n",
            "[221] loss: 0.217\n",
            "Accuracy of the network on the val images: 91 %\n",
            "[222] loss: 0.216\n",
            "Accuracy of the network on the val images: 90 %\n",
            "[223] loss: 0.216\n",
            "Accuracy of the network on the val images: 91 %\n",
            "[224] loss: 0.216\n",
            "Accuracy of the network on the val images: 91 %\n",
            "[225] loss: 0.215\n",
            "Accuracy of the network on the val images: 89 %\n",
            "[226] loss: 0.215\n",
            "Accuracy of the network on the val images: 91 %\n",
            "[227] loss: 0.215\n",
            "Accuracy of the network on the val images: 91 %\n",
            "[228] loss: 0.214\n",
            "Accuracy of the network on the val images: 91 %\n",
            "[229] loss: 0.214\n",
            "Accuracy of the network on the val images: 90 %\n",
            "[230] loss: 0.214\n",
            "Accuracy of the network on the val images: 90 %\n",
            "[231] loss: 0.213\n",
            "Accuracy of the network on the val images: 90 %\n",
            "[232] loss: 0.213\n",
            "Accuracy of the network on the val images: 91 %\n",
            "[233] loss: 0.213\n",
            "Accuracy of the network on the val images: 91 %\n",
            "[234] loss: 0.213\n",
            "Accuracy of the network on the val images: 91 %\n",
            "[235] loss: 0.212\n",
            "Accuracy of the network on the val images: 90 %\n",
            "[236] loss: 0.212\n",
            "Accuracy of the network on the val images: 91 %\n",
            "[237] loss: 0.212\n",
            "Accuracy of the network on the val images: 91 %\n",
            "[238] loss: 0.211\n",
            "Accuracy of the network on the val images: 91 %\n",
            "[239] loss: 0.211\n",
            "Accuracy of the network on the val images: 91 %\n",
            "[240] loss: 0.211\n",
            "Accuracy of the network on the val images: 91 %\n",
            "[241] loss: 0.210\n",
            "Accuracy of the network on the val images: 91 %\n",
            "[242] loss: 0.210\n",
            "Accuracy of the network on the val images: 91 %\n",
            "[243] loss: 0.210\n",
            "Accuracy of the network on the val images: 89 %\n",
            "[244] loss: 0.210\n",
            "Accuracy of the network on the val images: 91 %\n",
            "[245] loss: 0.209\n",
            "Accuracy of the network on the val images: 90 %\n",
            "[246] loss: 0.209\n",
            "Accuracy of the network on the val images: 90 %\n",
            "[247] loss: 0.209\n",
            "Accuracy of the network on the val images: 91 %\n",
            "[248] loss: 0.208\n",
            "Accuracy of the network on the val images: 91 %\n",
            "[249] loss: 0.208\n",
            "Accuracy of the network on the val images: 91 %\n",
            "[250] loss: 0.208\n",
            "Accuracy of the network on the val images: 89 %\n",
            "[251] loss: 0.207\n",
            "Accuracy of the network on the val images: 91 %\n",
            "[252] loss: 0.207\n",
            "Accuracy of the network on the val images: 90 %\n",
            "[253] loss: 0.207\n",
            "Accuracy of the network on the val images: 92 %\n",
            "[254] loss: 0.207\n",
            "Accuracy of the network on the val images: 90 %\n",
            "[255] loss: 0.206\n",
            "Accuracy of the network on the val images: 89 %\n",
            "[256] loss: 0.206\n",
            "Accuracy of the network on the val images: 89 %\n",
            "[257] loss: 0.206\n",
            "Accuracy of the network on the val images: 90 %\n",
            "[258] loss: 0.206\n",
            "Accuracy of the network on the val images: 90 %\n",
            "[259] loss: 0.205\n",
            "Accuracy of the network on the val images: 91 %\n",
            "[260] loss: 0.205\n",
            "Accuracy of the network on the val images: 90 %\n",
            "[261] loss: 0.205\n",
            "Accuracy of the network on the val images: 91 %\n",
            "[262] loss: 0.204\n",
            "Accuracy of the network on the val images: 90 %\n",
            "[263] loss: 0.204\n",
            "Accuracy of the network on the val images: 91 %\n",
            "[264] loss: 0.204\n",
            "Accuracy of the network on the val images: 89 %\n",
            "[265] loss: 0.203\n",
            "Accuracy of the network on the val images: 91 %\n",
            "[266] loss: 0.203\n",
            "Accuracy of the network on the val images: 91 %\n",
            "[267] loss: 0.203\n",
            "Accuracy of the network on the val images: 90 %\n",
            "[268] loss: 0.202\n",
            "Accuracy of the network on the val images: 91 %\n",
            "[269] loss: 0.202\n",
            "Accuracy of the network on the val images: 92 %\n",
            "[270] loss: 0.202\n",
            "Accuracy of the network on the val images: 90 %\n",
            "[271] loss: 0.202\n",
            "Accuracy of the network on the val images: 91 %\n",
            "[272] loss: 0.201\n",
            "Accuracy of the network on the val images: 91 %\n",
            "[273] loss: 0.201\n",
            "Accuracy of the network on the val images: 91 %\n",
            "[274] loss: 0.201\n",
            "Accuracy of the network on the val images: 91 %\n",
            "[275] loss: 0.200\n",
            "Accuracy of the network on the val images: 91 %\n",
            "[276] loss: 0.200\n",
            "Accuracy of the network on the val images: 90 %\n",
            "[277] loss: 0.200\n",
            "Accuracy of the network on the val images: 91 %\n",
            "[278] loss: 0.200\n",
            "Accuracy of the network on the val images: 91 %\n",
            "[279] loss: 0.199\n",
            "Accuracy of the network on the val images: 91 %\n",
            "[280] loss: 0.199\n",
            "Accuracy of the network on the val images: 90 %\n",
            "[281] loss: 0.199\n",
            "Accuracy of the network on the val images: 91 %\n",
            "[282] loss: 0.199\n",
            "Accuracy of the network on the val images: 91 %\n",
            "[283] loss: 0.198\n",
            "Accuracy of the network on the val images: 90 %\n",
            "[284] loss: 0.198\n",
            "Accuracy of the network on the val images: 91 %\n",
            "[285] loss: 0.198\n",
            "Accuracy of the network on the val images: 90 %\n",
            "[286] loss: 0.197\n",
            "Accuracy of the network on the val images: 91 %\n",
            "[287] loss: 0.197\n",
            "Accuracy of the network on the val images: 90 %\n",
            "[288] loss: 0.197\n",
            "Accuracy of the network on the val images: 89 %\n",
            "[289] loss: 0.197\n",
            "Accuracy of the network on the val images: 90 %\n",
            "[290] loss: 0.196\n",
            "Accuracy of the network on the val images: 91 %\n",
            "[291] loss: 0.196\n",
            "Accuracy of the network on the val images: 91 %\n",
            "[292] loss: 0.196\n",
            "Accuracy of the network on the val images: 91 %\n",
            "[293] loss: 0.195\n",
            "Accuracy of the network on the val images: 91 %\n",
            "[294] loss: 0.195\n",
            "Accuracy of the network on the val images: 91 %\n",
            "[295] loss: 0.195\n",
            "Accuracy of the network on the val images: 91 %\n",
            "[296] loss: 0.195\n",
            "Accuracy of the network on the val images: 91 %\n",
            "[297] loss: 0.194\n",
            "Accuracy of the network on the val images: 90 %\n",
            "[298] loss: 0.194\n",
            "Accuracy of the network on the val images: 92 %\n",
            "[299] loss: 0.194\n",
            "Accuracy of the network on the val images: 91 %\n",
            "[300] loss: 0.193\n",
            "Accuracy of the network on the val images: 90 %\n"
          ],
          "name": "stdout"
        },
        {
          "output_type": "display_data",
          "data": {
            "text/plain": [
              "<Figure size 432x288 with 0 Axes>"
            ]
          },
          "metadata": {
            "tags": []
          }
        },
        {
          "output_type": "display_data",
          "data": {
            "image/png": "[encoded data removed]",
            "text/plain": [
              "<Figure size 1080x288 with 2 Axes>"
            ]
          },
          "metadata": {
            "tags": []
          }
        },
        {
          "output_type": "stream",
          "text": [
            "Finished Training\n"
          ],
          "name": "stdout"
        }
      ]
    },
    {
      "cell_type": "code",
      "metadata": {
        "id": "FHKthlmWqHkD",
        "colab_type": "code",
        "outputId": "76398b57-a9b0-4320-9632-38fb8c82d3d4",
        "colab": {
          "base_uri": "https://localhost:8080/",
          "height": 841
        }
      },
      "source": [
        "net.eval()\n",
        "\n",
        "\n",
        "\n",
        "total = 0\n",
        "predictions = []\n",
        "n_batches = 16\n",
        "# for i in range(test_feature.shape[0]):\n",
        "correct = 0.\n",
        "total = 0.\n",
        "predictions = []\n",
        "TOTAL_CLASSES = 4\n",
        "class_correct = list(0. for i in range(TOTAL_CLASSES))\n",
        "class_total = list(0. for i in range(TOTAL_CLASSES))\n",
        "\n",
        "for i in range(math.ceil(test_feature.shape[0]/n_batches)):\n",
        "  # Local batches and labels\n",
        "  if (i+1)*n_batches > test_feature.shape[0]:\n",
        "      testData, labels = test_feature[i*n_batches:,:], test_label[i*n_batches:]\n",
        "  else:\n",
        "      testData, labels = test_feature[i*n_batches:(i+1)*n_batches,:], test_label[i*n_batches:(i+1)*n_batches]\n",
        "\n",
        "  # testData, label = test_feature, test_label\n",
        "\n",
        "  testData = torch.from_numpy(testData)\n",
        "  labels = torch.from_numpy(np.array(labels))\n",
        "\n",
        "  if IS_GPU:\n",
        "    testData = testData.cuda()\n",
        "    labels = labels.cuda()\n",
        "\n",
        "  testData = Variable(testData)\n",
        "  outputs = net(testData.float())\n",
        "  _, predicted = torch.max(outputs.data, 1)\n",
        "  predictions.extend(list(predicted.cpu().numpy()))\n",
        "  # total += label.size(0)\n",
        "\n",
        "  correct += (predicted == labels).sum()\n",
        "  c = (predicted == labels).squeeze()\n",
        "  for i in range(len(labels)):\n",
        "      label = labels[i]\n",
        "      class_correct[label] += c[i]\n",
        "      class_total[label] += 1\n",
        "\n",
        "acc = 0\n",
        "for l_i, label in enumerate(predictions):\n",
        "    if label == test_label[l_i]:\n",
        "        acc += 1\n",
        "    # print([str(l_i), str(label)], test_label[l_i])\n",
        "class_accuracy = 100 * np.divide(class_correct, class_total)\n",
        "print(\"class_accuracy\", class_accuracy)\n",
        "print(\"accuracy\", acc/len(test_label))\n",
        "\n",
        "\n",
        "import pandas as pd\n",
        "import seaborn as sn\n",
        "\n",
        "C = np.histogram2d(predictions, test_label, bins=4)[0]\n",
        "print(\"C\", C)\n",
        "my_xticks = ['happy','sad','angry','fear']\n",
        "\n",
        "df_cm = pd.DataFrame(C, index=[i for i in my_xticks], columns=[i for i in my_xticks])\n",
        "plt.figure(figsize = (10,7))\n",
        "plt.title(\"Confusion matrix over 4 classes\")\n",
        "sn.heatmap(df_cm, annot=True)\n",
        "\n",
        "f, ax = plt.subplots(figsize=(4,4))\n",
        "x = np.arange(1,5)\n",
        "idx = np.array([0,1,2,3])\n",
        "my_xticks = ['happy','sad','angry','fear']\n",
        "ax.set_xticks(x)\n",
        "ax.set_xticklabels(my_xticks)\n",
        "for i in range(4):\n",
        "  ax.text(i+0.56, class_accuracy[i].item()+0.4, str(format(class_accuracy[i].item(), \".2f\")+\"%\"), fontsize=13)\n",
        "ax.bar(x, class_accuracy, color='orange')\n",
        "ax.set_ylim(bottom=0, top=100)\n",
        "ax.set_ylabel('test accuracy')\n",
        "ax.set_title('Test Accuracy Over 4 Claases \\n Average accuracy: ' + str(format(acc/len(test_label),\".2%\")))\n",
        "ax.grid(True)\n",
        "ax.figure.savefig(\"test_acc.png\")\n",
        "plt.show()"
      ],
      "execution_count": 0,
      "outputs": [
        {
          "output_type": "stream",
          "text": [
            "class_accuracy [tensor(81.2500, device='cuda:0') tensor(75., device='cuda:0')\n",
            " tensor(84.3750, device='cuda:0') tensor(81.2500, device='cuda:0')]\n",
            "accuracy 0.8046875\n",
            "C [[26.  6.  4.  1.]\n",
            " [ 3. 24.  1.  4.]\n",
            " [ 2.  0. 27.  1.]\n",
            " [ 1.  2.  0. 26.]]\n"
          ],
          "name": "stdout"
        },
        {
          "output_type": "display_data",
          "data": {
            "image/png": "[encoded data removed]",
            "text/plain": [
              "<Figure size 720x504 with 2 Axes>"
            ]
          },
          "metadata": {
            "tags": []
          }
        },
        {
          "output_type": "display_data",
          "data": {
            "image/png": "[encoded data removed]",
            "text/plain": [
              "<Figure size 288x288 with 1 Axes>"
            ]
          },
          "metadata": {
            "tags": []
          }
        }
      ]
    },
    {
      "cell_type": "code",
      "metadata": {
        "id": "HGnHBLJU4SQ8",
        "colab_type": "code",
        "outputId": "a59d71aa-94bf-4fc7-c918-28bab8a6cbe0",
        "colab": {
          "base_uri": "https://localhost:8080/",
          "height": 34
        }
      },
      "source": [
        "test_feature.shape"
      ],
      "execution_count": 0,
      "outputs": [
        {
          "output_type": "execute_result",
          "data": {
            "text/plain": [
              "(64, 13, 216)"
            ]
          },
          "metadata": {
            "tags": []
          },
          "execution_count": 106
        }
      ]
    }
  ]
}