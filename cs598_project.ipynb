{
  "nbformat": 4,
  "nbformat_minor": 0,
  "metadata": {
    "colab": {
      "name": "cs598 project.ipynb",
      "provenance": [],
      "collapsed_sections": []
    },
    "kernelspec": {
      "name": "python3",
      "display_name": "Python 3"
    },
    "accelerator": "GPU"
  },
  "cells": [
    {
      "cell_type": "code",
      "metadata": {
        "colab_type": "code",
        "id": "Wv2oKmF9AJtI",
        "outputId": "d0e43a6a-04b3-46b0-9ca0-e9d558b04368",
        "colab": {
          "base_uri": "https://localhost:8080/",
          "height": 124
        }
      },
      "source": [
        "from google.colab import drive\n",
        "drive.mount('/content/gdrive/')"
      ],
      "execution_count": 2,
      "outputs": [
        {
          "output_type": "stream",
          "text": [
            "Go to this URL in a browser: https://accounts.google.com/o/oauth2/auth?client_id=947318989803-6bn6qk8qdgf4n4g3pfee6491hc0brc4i.apps.googleusercontent.com&redirect_uri=urn%3aietf%3awg%3aoauth%3a2.0%3aoob&response_type=code&scope=email%20https%3a%2f%2fwww.googleapis.com%2fauth%2fdocs.test%20https%3a%2f%2fwww.googleapis.com%2fauth%2fdrive%20https%3a%2f%2fwww.googleapis.com%2fauth%2fdrive.photos.readonly%20https%3a%2f%2fwww.googleapis.com%2fauth%2fpeopleapi.readonly\n",
            "\n",
            "Enter your authorization code:\n",
            "··········\n",
            "Mounted at /content/gdrive/\n"
          ],
          "name": "stdout"
        }
      ]
    },
    {
      "cell_type": "code",
      "metadata": {
        "id": "kKGxaMcmP_Et",
        "colab_type": "code",
        "outputId": "e73783c2-3ded-434d-b5d9-c719c2bdb5d8",
        "colab": {
          "base_uri": "https://localhost:8080/",
          "height": 34
        }
      },
      "source": [
        "ls gdrive"
      ],
      "execution_count": 3,
      "outputs": [
        {
          "output_type": "stream",
          "text": [
            "\u001b[0m\u001b[01;34m'My Drive'\u001b[0m/\n"
          ],
          "name": "stdout"
        }
      ]
    },
    {
      "cell_type": "code",
      "metadata": {
        "colab_type": "code",
        "id": "UA2-UyfpEc9O",
        "colab": {}
      },
      "source": [
        "import os\n",
        "os.chdir(\"/content/gdrive/My Drive/CS598\")"
      ],
      "execution_count": 0,
      "outputs": []
    },
    {
      "cell_type": "markdown",
      "metadata": {
        "id": "SJOCaUMilRz_",
        "colab_type": "text"
      },
      "source": [
        "# Copy data to local dir"
      ]
    },
    {
      "cell_type": "code",
      "metadata": {
        "id": "90MxG_eRla0W",
        "colab_type": "code",
        "colab": {}
      },
      "source": [
        "# !mkdir /dataCS5981\n",
        "!cp -r -n RADVESS/ /data\n",
        "\n"
      ],
      "execution_count": 0,
      "outputs": []
    },
    {
      "cell_type": "code",
      "metadata": {
        "id": "rbrc2UPDaqDv",
        "colab_type": "code",
        "colab": {}
      },
      "source": [
        "!cp -r -n AudioData/ /data"
      ],
      "execution_count": 0,
      "outputs": []
    },
    {
      "cell_type": "code",
      "metadata": {
        "id": "bzI8GEIjr0LA",
        "colab_type": "code",
        "colab": {}
      },
      "source": [
        "!cp -r -n TESS/ /data"
      ],
      "execution_count": 0,
      "outputs": []
    },
    {
      "cell_type": "code",
      "metadata": {
        "id": "XvFEFItpl98p",
        "colab_type": "code",
        "outputId": "898c4ef7-e205-44bd-a391-2d54f39a4a30",
        "colab": {
          "base_uri": "https://localhost:8080/",
          "height": 121
        }
      },
      "source": [
        "ls /data"
      ],
      "execution_count": 10,
      "outputs": [
        {
          "output_type": "stream",
          "text": [
            "\u001b[0m\u001b[01;34mActor_01\u001b[0m/  \u001b[01;34mActor_07\u001b[0m/  \u001b[01;34mActor_13\u001b[0m/  \u001b[01;34mActor_19\u001b[0m/  \u001b[01;34mAudioData\u001b[0m/\n",
            "\u001b[01;34mActor_02\u001b[0m/  \u001b[01;34mActor_08\u001b[0m/  \u001b[01;34mActor_14\u001b[0m/  \u001b[01;34mActor_20\u001b[0m/  Audio_Speech_Actors_01-24.zip\n",
            "\u001b[01;34mActor_03\u001b[0m/  \u001b[01;34mActor_09\u001b[0m/  \u001b[01;34mActor_15\u001b[0m/  \u001b[01;34mActor_21\u001b[0m/  \u001b[01;34mRADVESS\u001b[0m/\n",
            "\u001b[01;34mActor_04\u001b[0m/  \u001b[01;34mActor_10\u001b[0m/  \u001b[01;34mActor_16\u001b[0m/  \u001b[01;34mActor_22\u001b[0m/  \u001b[01;34mTESS\u001b[0m/\n",
            "\u001b[01;34mActor_05\u001b[0m/  \u001b[01;34mActor_11\u001b[0m/  \u001b[01;34mActor_17\u001b[0m/  \u001b[01;34mActor_23\u001b[0m/\n",
            "\u001b[01;34mActor_06\u001b[0m/  \u001b[01;34mActor_12\u001b[0m/  \u001b[01;34mActor_18\u001b[0m/  \u001b[01;34mActor_24\u001b[0m/\n"
          ],
          "name": "stdout"
        }
      ]
    },
    {
      "cell_type": "code",
      "metadata": {
        "colab_type": "code",
        "id": "kjbQtzKT9Uc2",
        "outputId": "57dfab56-4923-4b2a-e0c4-cc15ffef2ede",
        "colab": {
          "base_uri": "https://localhost:8080/",
          "height": 470
        }
      },
      "source": [
        "!pip3 install torch torchvision\n",
        "!pip3 install librosa\n",
        "!pip3 install hmmlearn"
      ],
      "execution_count": 11,
      "outputs": [
        {
          "output_type": "stream",
          "text": [
            "Requirement already satisfied: torch in /usr/local/lib/python3.6/dist-packages (1.3.1)\n",
            "Requirement already satisfied: torchvision in /usr/local/lib/python3.6/dist-packages (0.4.2)\n",
            "Requirement already satisfied: numpy in /usr/local/lib/python3.6/dist-packages (from torch) (1.17.4)\n",
            "Requirement already satisfied: six in /usr/local/lib/python3.6/dist-packages (from torchvision) (1.12.0)\n",
            "Requirement already satisfied: pillow>=4.1.1 in /usr/local/lib/python3.6/dist-packages (from torchvision) (4.3.0)\n",
            "Requirement already satisfied: olefile in /usr/local/lib/python3.6/dist-packages (from pillow>=4.1.1->torchvision) (0.46)\n",
            "Requirement already satisfied: librosa in /usr/local/lib/python3.6/dist-packages (0.6.3)\n",
            "Requirement already satisfied: numba>=0.38.0 in /usr/local/lib/python3.6/dist-packages (from librosa) (0.40.1)\n",
            "Requirement already satisfied: joblib>=0.12 in /usr/local/lib/python3.6/dist-packages (from librosa) (0.14.1)\n",
            "Requirement already satisfied: six>=1.3 in /usr/local/lib/python3.6/dist-packages (from librosa) (1.12.0)\n",
            "Requirement already satisfied: resampy>=0.2.0 in /usr/local/lib/python3.6/dist-packages (from librosa) (0.2.2)\n",
            "Requirement already satisfied: scikit-learn!=0.19.0,>=0.14.0 in /usr/local/lib/python3.6/dist-packages (from librosa) (0.21.3)\n",
            "Requirement already satisfied: audioread>=2.0.0 in /usr/local/lib/python3.6/dist-packages (from librosa) (2.1.8)\n",
            "Requirement already satisfied: scipy>=1.0.0 in /usr/local/lib/python3.6/dist-packages (from librosa) (1.3.3)\n",
            "Requirement already satisfied: decorator>=3.0.0 in /usr/local/lib/python3.6/dist-packages (from librosa) (4.4.1)\n",
            "Requirement already satisfied: numpy>=1.8.0 in /usr/local/lib/python3.6/dist-packages (from librosa) (1.17.4)\n",
            "Requirement already satisfied: llvmlite>=0.25.0dev0 in /usr/local/lib/python3.6/dist-packages (from numba>=0.38.0->librosa) (0.30.0)\n",
            "Collecting hmmlearn\n",
            "\u001b[?25l  Downloading https://files.pythonhosted.org/packages/ff/7b/33f629a443a0671161c019e55c3f1b511c7e9fdce5ab8c8c3c33470eb939/hmmlearn-0.2.3-cp36-cp36m-manylinux1_x86_64.whl (363kB)\n",
            "\u001b[K     |████████████████████████████████| 368kB 6.2MB/s \n",
            "\u001b[?25hRequirement already satisfied: numpy>=1.10 in /usr/local/lib/python3.6/dist-packages (from hmmlearn) (1.17.4)\n",
            "Requirement already satisfied: scikit-learn>=0.16 in /usr/local/lib/python3.6/dist-packages (from hmmlearn) (0.21.3)\n",
            "Requirement already satisfied: scipy>=0.15 in /usr/local/lib/python3.6/dist-packages (from hmmlearn) (1.3.3)\n",
            "Requirement already satisfied: joblib>=0.11 in /usr/local/lib/python3.6/dist-packages (from scikit-learn>=0.16->hmmlearn) (0.14.1)\n",
            "Installing collected packages: hmmlearn\n",
            "Successfully installed hmmlearn-0.2.3\n"
          ],
          "name": "stdout"
        }
      ]
    },
    {
      "cell_type": "code",
      "metadata": {
        "id": "82eGxliQUpfW",
        "colab_type": "code",
        "outputId": "6377ba15-7f13-4c1b-f44e-6e2466ae2d4b",
        "colab": {
          "base_uri": "https://localhost:8080/",
          "height": 139
        }
      },
      "source": [
        "!pip3 install torch torchvision torchsummary"
      ],
      "execution_count": 12,
      "outputs": [
        {
          "output_type": "stream",
          "text": [
            "Requirement already satisfied: torch in /usr/local/lib/python3.6/dist-packages (1.3.1)\n",
            "Requirement already satisfied: torchvision in /usr/local/lib/python3.6/dist-packages (0.4.2)\n",
            "Requirement already satisfied: torchsummary in /usr/local/lib/python3.6/dist-packages (1.5.1)\n",
            "Requirement already satisfied: numpy in /usr/local/lib/python3.6/dist-packages (from torch) (1.17.4)\n",
            "Requirement already satisfied: pillow>=4.1.1 in /usr/local/lib/python3.6/dist-packages (from torchvision) (4.3.0)\n",
            "Requirement already satisfied: six in /usr/local/lib/python3.6/dist-packages (from torchvision) (1.12.0)\n",
            "Requirement already satisfied: olefile in /usr/local/lib/python3.6/dist-packages (from pillow>=4.1.1->torchvision) (0.46)\n"
          ],
          "name": "stdout"
        }
      ]
    },
    {
      "cell_type": "markdown",
      "metadata": {
        "colab_type": "text",
        "id": "u_BekZYY9Vzx"
      },
      "source": [
        "Make sure that pytorch is installed and works with GPU:"
      ]
    },
    {
      "cell_type": "code",
      "metadata": {
        "colab_type": "code",
        "id": "8TXSJWQa9efx",
        "outputId": "8eaab1eb-fc03-4f9f-8436-69456b60eb79",
        "colab": {
          "base_uri": "https://localhost:8080/",
          "height": 34
        }
      },
      "source": [
        "import torch\n",
        "a = torch.Tensor([1]).cuda()\n",
        "print(a)\n"
      ],
      "execution_count": 13,
      "outputs": [
        {
          "output_type": "stream",
          "text": [
            "tensor([1.], device='cuda:0')\n"
          ],
          "name": "stdout"
        }
      ]
    },
    {
      "cell_type": "code",
      "metadata": {
        "id": "xo0txeT04X3c",
        "colab_type": "code",
        "colab": {}
      },
      "source": [
        "import numpy as np\n",
        "import scipy.linalg as lg\n",
        "from scipy import signal\n",
        "import matplotlib.pyplot as plt\n",
        "import scipy.io.wavfile as wav\n",
        "import scipy\n",
        "import sys\n",
        "import os\n",
        "from random import shuffle\n",
        "import librosa\n",
        "import librosa.display\n",
        "from sklearn.metrics import confusion_matrix\n",
        "import pandas as pd\n",
        "import seaborn as sn\n",
        "from hmmlearn import hmm\n",
        "from collections import Counter\n",
        "import matplotlib.ticker as mtick\n"
      ],
      "execution_count": 0,
      "outputs": []
    },
    {
      "cell_type": "code",
      "metadata": {
        "id": "OEeRNsCjRXZK",
        "colab_type": "code",
        "outputId": "f71e604a-5802-4c76-ea48-39c89d5e975e",
        "colab": {
          "base_uri": "https://localhost:8080/",
          "height": 34
        }
      },
      "source": [
        "torch.cuda.is_available()"
      ],
      "execution_count": 15,
      "outputs": [
        {
          "output_type": "execute_result",
          "data": {
            "text/plain": [
              "True"
            ]
          },
          "metadata": {
            "tags": []
          },
          "execution_count": 15
        }
      ]
    },
    {
      "cell_type": "code",
      "metadata": {
        "id": "-3yJHzFhp0Qo",
        "colab_type": "code",
        "colab": {}
      },
      "source": [
        "data_names = []\n",
        "data_labels1 = []\n",
        "data_labels2 = []\n",
        "data_labels3 = []\n",
        "data_mfccs1 = []\n",
        "data_mfccs2 = []\n",
        "data_mfccs3 = []"
      ],
      "execution_count": 0,
      "outputs": []
    },
    {
      "cell_type": "code",
      "metadata": {
        "id": "XFIhYnKzp4PG",
        "colab_type": "code",
        "colab": {}
      },
      "source": [
        "emotionDict = {'happy': 0, 'sad': 1, 'angry': 2, 'fearful': 3}\n",
        "\n",
        "for dirs in os.listdir('/data'):\n",
        "    # If file is not directory, continue\n",
        "    if os.path.isdir('/data/'+ dirs):\n",
        "      files = os.listdir('/data/'+ dirs)\n",
        "    else:\n",
        "      continue\n",
        "    if dirs[0:5] != 'Actor':\n",
        "      continue\n",
        "    for file in files:\n",
        "        f = file.split('-')\n",
        "        inEmotion = False\n",
        "        # if int(f[6][:2]) % 2 == 1: \n",
        "        if(f[2]=='03'):\n",
        "            data_labels1.append(emotionDict['happy'])\n",
        "            inEmotion = True\n",
        "        elif(f[2]=='04'):\n",
        "            data_labels1.append(emotionDict['sad'])\n",
        "            inEmotion = True\n",
        "        elif(f[2]=='05'):\n",
        "            data_labels1.append(emotionDict['angry'])\n",
        "            inEmotion = True\n",
        "        elif(f[2]=='06'):\n",
        "            data_labels1.append(emotionDict['fearful'])\n",
        "            inEmotion = True\n",
        "        if inEmotion == True:\n",
        "            data_names.append(file)\n",
        "            # load data\n",
        "            data, sample_rate = librosa.load('RADVESS/'+dirs+'/'+ file, res_type='kaiser_fast',duration=2.5,sr=22050*2,offset=0.5) # data is 110250\n",
        "            # get mfcc features\n",
        "            mfccs = librosa.feature.mfcc(y=data.astype(dtype=float), sr=sample_rate, n_mfcc=13) # 13 x 216\n",
        "            while mfccs.shape[1] < 216:\n",
        "              mfcc = np.concatenate((mfccs, mfccs), axis=1)\n",
        "              mfccs = mfcc[:,:216]\n",
        "            data_mfccs1.append(mfccs)"
      ],
      "execution_count": 0,
      "outputs": []
    },
    {
      "cell_type": "code",
      "metadata": {
        "id": "aXXLF9GGcbdN",
        "colab_type": "code",
        "colab": {}
      },
      "source": [
        "for dirs in os.listdir('/data/AudioData/'):\n",
        "  if os.path.isdir('/data/AudioData/'+ dirs):\n",
        "    files = os.listdir('/data/AudioData/'+ dirs)\n",
        "  else:\n",
        "    continue\n",
        "  for file in files:\n",
        "    inEmotion = False\n",
        "    if file[0] == 'h':\n",
        "      data_labels2.append(emotionDict['happy'])\n",
        "      inEmotion = True\n",
        "    elif file[0] == 'a':\n",
        "      data_labels2.append(emotionDict['angry'])\n",
        "      inEmotion = True\n",
        "    elif file[0] == 'f':\n",
        "      data_labels2.append(emotionDict['fearful'])\n",
        "      inEmotion = True\n",
        "    elif file[0:2] == 'sa':\n",
        "      data_labels2.append(emotionDict['sad'])\n",
        "      inEmotion = True\n",
        "    if inEmotion == True:\n",
        "      data_names.append(file)\n",
        "      # load data\n",
        "      data, sample_rate = librosa.load('AudioData/'+dirs+'/'+ file, res_type='kaiser_fast',duration=2.5,sr=22050*2,offset=0.5) # data is 110250\n",
        "      # get mfcc features\n",
        "      mfccs = librosa.feature.mfcc(y=data.astype(dtype=float), sr=sample_rate, n_mfcc=13) # 13 x 216\n",
        "      while mfccs.shape[1] < 216:\n",
        "        mfcc = np.concatenate((mfccs, mfccs), axis=1)\n",
        "        mfccs = mfcc[:,:216]\n",
        "      data_mfccs2.append(mfccs)\n",
        "    "
      ],
      "execution_count": 0,
      "outputs": []
    },
    {
      "cell_type": "code",
      "metadata": {
        "id": "KD7I6Trcv5cG",
        "colab_type": "code",
        "colab": {}
      },
      "source": [
        "for dirs in os.listdir('/data/TESS/'):\n",
        "  files = os.listdir('/data/TESS/' + dirs)\n",
        "  for file in files:\n",
        "    inEmotion = False\n",
        "    f = file.split('_')\n",
        "    f = f[2].split('.')\n",
        "    if f[0] == 'happy':\n",
        "      data_labels3.append(emotionDict['happy'])\n",
        "      inEmotion = True\n",
        "    elif f[0] == 'angry':\n",
        "      data_labels3.append(emotionDict['angry'])\n",
        "      inEmotion = True\n",
        "    elif f[0] == 'fear':\n",
        "      data_labels3.append(emotionDict['fearful'])\n",
        "      inEmotion = True\n",
        "    elif f[0] == 'sad':\n",
        "      data_labels3.append(emotionDict['sad'])\n",
        "      inEmotion = True\n",
        "    if inEmotion == True:\n",
        "      #data_names.append(file)\n",
        "      # load data\n",
        "      data, sample_rate = librosa.load('/data/TESS/'+dirs+'/'+ file, res_type='kaiser_fast',duration=2.5,sr=22050*2,offset=0.5) # data is 110250\n",
        "      # get mfcc features\n",
        "      mfccs = librosa.feature.mfcc(y=data.astype(dtype=float), sr=sample_rate, n_mfcc=13) # 13 x 216\n",
        "      while mfccs.shape[1] < 216:\n",
        "        mfcc = np.concatenate((mfccs, mfccs), axis=1)\n",
        "        mfccs = mfcc[:,:216]\n",
        "      data_mfccs3.append(mfccs)"
      ],
      "execution_count": 0,
      "outputs": []
    },
    {
      "cell_type": "code",
      "metadata": {
        "id": "naLR6qWWp7Si",
        "colab_type": "code",
        "outputId": "6564b4e3-5991-4ac7-e612-a9c6ab4e2cab",
        "colab": {
          "base_uri": "https://localhost:8080/",
          "height": 52
        }
      },
      "source": [
        "# Convert 2d mfcc features to 1d\n",
        "features = data_mfccs1 + data_mfccs2 + data_mfccs3 # (216,)\n",
        "# features = features.astype(dtype='double')\n",
        "print(len(features), features[0].shape, len(data_names))\n",
        "\n",
        "data_labels = data_labels1 + data_labels2 + data_labels3\n",
        "print(len(data_labels))"
      ],
      "execution_count": 20,
      "outputs": [
        {
          "output_type": "stream",
          "text": [
            "2608 (13, 216) 1008\n",
            "2608\n"
          ],
          "name": "stdout"
        }
      ]
    },
    {
      "cell_type": "code",
      "metadata": {
        "id": "dngaZuV5sb0U",
        "colab_type": "code",
        "colab": {}
      },
      "source": [
        "def most_frequent(lst):\n",
        "  data = Counter(lst)\n",
        "  return data.most_common(1)[0][0]"
      ],
      "execution_count": 0,
      "outputs": []
    },
    {
      "cell_type": "code",
      "metadata": {
        "id": "MNWKN7qG3KCY",
        "colab_type": "code",
        "colab": {}
      },
      "source": [
        "def get_transition_left_right(n):\n",
        "    trans = np.zeros((n,n))\n",
        "    for i in range(n-1):\n",
        "        trans[i][i] = 0.5\n",
        "        trans[i][i+1] = 0.5\n",
        "    trans[n-1][n-1] = 1\n",
        "    return trans"
      ],
      "execution_count": 0,
      "outputs": []
    },
    {
      "cell_type": "code",
      "metadata": {
        "id": "IpduW7tCfCIe",
        "colab_type": "code",
        "colab": {
          "base_uri": "https://localhost:8080/",
          "height": 52
        },
        "outputId": "4d57db75-d1a9-4523-ba1d-10c72a49cb0f"
      },
      "source": [
        "featuresHMM = features \n",
        "data_labelsHMM = data_labels \n",
        "# shuffle data\n",
        "rang = np.arange(0, len(featuresHMM))\n",
        "shuffle(rang)\n",
        "shuffled_featuresHMM = [featuresHMM[i] for i in rang]\n",
        "print(shuffled_featuresHMM[0].shape)\n",
        "shuffle_data_labelsHMM = [data_labelsHMM[i] for i in rang]\n",
        "print(len(shuffled_featuresHMM), len(shuffle_data_labelsHMM))\n",
        "\n",
        "totLen = len(shuffled_featuresHMM)\n",
        "train_feature = shuffled_featuresHMM[0:int(totLen*0.8)]\n",
        "train_label = shuffle_data_labelsHMM[0:int(totLen*0.8)]\n",
        "test_feature = shuffled_featuresHMM[int(totLen*0.8):]\n",
        "test_label = shuffle_data_labelsHMM[int(totLen*0.8):]"
      ],
      "execution_count": 23,
      "outputs": [
        {
          "output_type": "stream",
          "text": [
            "(13, 216)\n",
            "2608 2608\n"
          ],
          "name": "stdout"
        }
      ]
    },
    {
      "cell_type": "code",
      "metadata": {
        "id": "opBf-HRmv7eU",
        "colab_type": "code",
        "colab": {
          "base_uri": "https://localhost:8080/",
          "height": 330
        },
        "outputId": "a482fde6-1f7c-4be7-ce6a-09573de14745"
      },
      "source": [
        "n_comp = 4\n",
        "\n",
        "models = []\n",
        "for classIdx in range(4):\n",
        "  lr = hmm.GaussianHMM(n_components=n_comp, covariance_type=\"diag\")\n",
        "  lr.startprob_ = np.zeros(n_comp)\n",
        "  lr.startprob_[0] = 1\n",
        "  lr.transmat_ = get_transition_left_right(n_comp)\n",
        "  # get each class's training data\n",
        "  idxs = [i for i in range(len(train_label)) if train_label[i] == classIdx]\n",
        "  trainSet = [train_feature[idx] for idx in idxs]\n",
        "  print(\"len(trainSet)\", len(trainSet))\n",
        "  trainData = np.hstack(trainSet)\n",
        "  lr.fit(trainData.T)\n",
        "  models.append(lr)\n",
        "\n",
        "acc = 0\n",
        "predictions_hmm = []\n",
        "acc_class = [0,0,0,0]\n",
        "acc_class_total = [0,0,0,0]\n",
        "for i in range(4):\n",
        "  acc_class_total[i] = test_label.count(i)\n",
        "print(acc_class_total)\n",
        "for i in range(len(test_feature)):\n",
        "  # get class test data\n",
        "  testData = test_feature[i]\n",
        "  scores = [(hmm.score(testData.T)) for hmm in models]\n",
        "  estimated_class = np.argmax(scores)\n",
        "  predictions_hmm.append(estimated_class)\n",
        "  if estimated_class == test_label[i]:\n",
        "    acc += 1\n",
        "    acc_class[test_label[i]] += 1\n",
        "accs.append(acc/len(test_feature))\n",
        "print('acc ' + str(acc/len(test_feature)))\n",
        "print(acc_class)"
      ],
      "execution_count": 66,
      "outputs": [
        {
          "output_type": "stream",
          "text": [
            "2\n",
            "trainData.shape (13, 216)\n"
          ],
          "name": "stdout"
        },
        {
          "output_type": "display_data",
          "data": {
            "image/png": "[encoded data removed]",
            "text/plain": [
              "<Figure size 432x288 with 1 Axes>"
            ]
          },
          "metadata": {
            "tags": []
          }
        }
      ]
    },
    {
      "cell_type": "code",
      "metadata": {
        "id": "re5LOZsignFh",
        "colab_type": "code",
        "colab": {
          "base_uri": "https://localhost:8080/",
          "height": 295
        },
        "outputId": "02f87262-fba7-40ac-83d1-7a8c297a4fd2"
      },
      "source": [
        "# for l_i, acc in enumerate(accs):\n",
        "plt.plot(np.arange(3,9), accs, marker='o', color='b')\n",
        "plt.gca().yaxis.set_major_formatter(mtick.PercentFormatter(1))\n",
        "plt.xlabel('number of states')\n",
        "plt.ylabel('test set accuracy')\n",
        "plt.title('Test Accuracy Over Number of HMM States')\n",
        "plt.show()"
      ],
      "execution_count": 51,
      "outputs": [
        {
          "output_type": "display_data",
          "data": {
            "image/png": "[encoded data removed]",
            "text/plain": [
              "<Figure size 432x288 with 1 Axes>"
            ]
          },
          "metadata": {
            "tags": []
          }
        }
      ]
    },
    {
      "cell_type": "code",
      "metadata": {
        "id": "-dCSEDKaNioA",
        "colab_type": "code",
        "colab": {
          "base_uri": "https://localhost:8080/",
          "height": 740
        },
        "outputId": "f1d29490-7b9a-4de8-cead-a4059723fecb"
      },
      "source": [
        "C = np.histogram2d(predictions_hmm, test_label, bins=4)[0]\n",
        "my_xticks = ['happy','sad','angry','fear']\n",
        "df_cm = pd.DataFrame(C, index=[i for i in my_xticks], columns=[i for i in my_xticks])\n",
        "plt.figure(figsize = (7,7))\n",
        "plt.title(\"HMM Confusion matrix over 4 classes\")\n",
        "sn.heatmap(df_cm, annot=True)\n",
        "\n",
        "class_accuracy = 100 * np.divide(acc_class, acc_class_total)\n",
        "print(class_accuracy)\n",
        "f, ax = plt.subplots(figsize=(4,4))\n",
        "x = np.arange(1,5)\n",
        "idx = np.array([0,1,2,3])\n",
        "ax.set_xticks(x)\n",
        "ax.set_xticklabels(my_xticks)\n",
        "for i in range(4):\n",
        "  ax.text(i+0.56, class_accuracy[i].item()+0.4, str(format(class_accuracy[i].item(), \".2f\")+\"%\"), fontsize=13)\n",
        "ax.bar(x, class_accuracy, color='orange')\n",
        "ax.set_ylim(bottom=50, top=100)\n",
        "ax.set_ylabel('test accuracy')\n",
        "ax.set_title('Test Accuracy Over 4 Claases \\n Average accuracy: ' + str(format(acc/len(test_feature),\".2%\")))\n",
        "ax.grid(True)\n",
        "# ax.figure.savefig(\"test_acc.png\")\n",
        "plt.show()"
      ],
      "execution_count": 33,
      "outputs": [
        {
          "output_type": "stream",
          "text": [
            "[52.23880597 82.57575758 81.88976378 68.21705426]\n"
          ],
          "name": "stdout"
        },
        {
          "output_type": "display_data",
          "data": {
            "image/png": "[encoded data removed]",
            "text/plain": [
              "<Figure size 504x504 with 2 Axes>"
            ]
          },
          "metadata": {
            "tags": []
          }
        },
        {
          "output_type": "display_data",
          "data": {
            "image/png": "[encoded data removed]",
            "text/plain": [
              "<Figure size 288x288 with 1 Axes>"
            ]
          },
          "metadata": {
            "tags": []
          }
        }
      ]
    },
    {
      "cell_type": "code",
      "metadata": {
        "id": "6VC1vlGToXt1",
        "colab_type": "code",
        "colab": {}
      },
      "source": [
        ""
      ],
      "execution_count": 0,
      "outputs": []
    },
    {
      "cell_type": "code",
      "metadata": {
        "id": "Ha0M8Krxp9RT",
        "colab_type": "code",
        "outputId": "f9c13925-7b95-4abf-aa65-1ec301060388",
        "colab": {
          "base_uri": "https://localhost:8080/",
          "height": 52
        }
      },
      "source": [
        "# shuffle data\n",
        "# z = list(zip(features, data_labels))\n",
        "rang = np.arange(0, len(features))\n",
        "shuffle(rang)\n",
        "shuffled_features = [features[i] for i in rang]\n",
        "shuffle_data_labels = [data_labels[i] for i in rang]\n",
        "\n",
        "# split data into train and test set\n",
        "totLen = len(features)\n",
        "train_feature = shuffled_features[0:int(totLen*0.8)]\n",
        "test_feature = shuffled_features[int(totLen*0.8):int(totLen*0.9)]\n",
        "val_feature = shuffled_features[int(totLen*0.9):]\n",
        "\n",
        "train_label = shuffle_data_labels[0:int(totLen*0.8)]\n",
        "test_label = shuffle_data_labels[int(totLen*0.8):int(totLen*0.9)]\n",
        "val_label = shuffle_data_labels[int(totLen*0.9):]\n",
        "print(len(train_feature),len(test_feature),len(train_label),len(test_label),len(val_feature), len(val_label))\n",
        "# Convert list to array\n",
        "train_feature = np.rollaxis(np.dstack(train_feature),-1)\n",
        "test_feature = np.rollaxis(np.dstack(test_feature),-1)\n",
        "val_feature = np.rollaxis(np.dstack(val_feature),-1)\n",
        "print((train_feature.shape), train_feature[0].shape, test_feature.shape, val_feature.shape)"
      ],
      "execution_count": 0,
      "outputs": [
        {
          "output_type": "stream",
          "text": [
            "2086 261 2086 261 261 261\n",
            "(2086, 13, 216) (13, 216) (261, 13, 216) (261, 13, 216)\n"
          ],
          "name": "stdout"
        }
      ]
    },
    {
      "cell_type": "code",
      "metadata": {
        "id": "8HchihN8-I6I",
        "colab_type": "code",
        "colab": {}
      },
      "source": [
        ""
      ],
      "execution_count": 0,
      "outputs": []
    },
    {
      "cell_type": "code",
      "metadata": {
        "id": "EIJrfpQmp_Cv",
        "colab_type": "code",
        "colab": {}
      },
      "source": [
        "import torch.nn as nn\n",
        "import torch.nn.functional as F\n",
        "import torch\n",
        "import torch.utils.data\n",
        "# import torchvision\n",
        "# import torchvision.transforms as transforms\n",
        "\n",
        "from torch.autograd import Variable\n",
        "IS_GPU = True\n"
      ],
      "execution_count": 0,
      "outputs": []
    },
    {
      "cell_type": "code",
      "metadata": {
        "id": "mLHbpHM6qBFN",
        "colab_type": "code",
        "colab": {}
      },
      "source": [
        "class BaseNet(nn.Module):\n",
        "    def __init__(self):\n",
        "        super(BaseNet, self).__init__()\n",
        "        # Add more conv layers with increasing output channels\n",
        "        # Add normalization layers after conv layers (nn.BatchNorm2d)\n",
        "        # Also experiment with kernel size in conv2d layers (say 3\n",
        "        # inspired from VGGNet)\n",
        "    \n",
        "        self.conv_net = nn.Sequential(\n",
        "            nn.Conv1d(13, 256, kernel_size=5, padding=2), # (216 + 2*2 - 1*(5-1) - 1)/1+1= 216\n",
        "            nn.BatchNorm1d(256),\n",
        "            nn.ReLU(inplace=True),\n",
        "            nn.MaxPool1d(kernel_size=3), # 216/3=72\n",
        "            \n",
        "            nn.Conv1d(256, 512, kernel_size=5, padding=2), # (216 + 2*2 - 1*(5-1) - 1)/1+1= 216\n",
        "            nn.BatchNorm1d(512),\n",
        "            nn.ReLU(inplace=True),\n",
        "            nn.MaxPool1d(kernel_size=3), # 72/3=24\n",
        "            \n",
        "            nn.Dropout(p=0.1),\n",
        "\n",
        "            nn.Conv1d(512, 512, kernel_size=5, padding=2), # (216 + 2*2 - 1*(5-1) - 1)/1+1= 216\n",
        "            nn.BatchNorm1d(512),\n",
        "            nn.ReLU(inplace=True),\n",
        "            nn.MaxPool1d(kernel_size=3), # 24/3=8\n",
        "\n",
        "            nn.Conv1d(512, 512, kernel_size=5, padding=2), # (216 + 2*2 - 1*(5-1) - 1)/1+1= 216\n",
        "            nn.BatchNorm1d(512),\n",
        "            nn.ReLU(inplace=True),\n",
        "            nn.MaxPool1d(kernel_size=2), # 8/2=4\n",
        "            \n",
        "            nn.Flatten(),\n",
        "        )\n",
        "\n",
        "        # Add more linear (fc) layers\n",
        "        # Add normalization layers after linear and\n",
        "        # experiment inserting them before or after ReLU (nn.BatchNorm1d)\n",
        "        \n",
        "        self.fc_net = nn.Sequential(\n",
        "            # nn.Linear(4*1024, 2*1024),\n",
        "            # nn.ReLU(inplace=True),\n",
        "            # nn.BatchNorm1d(2*1024),\n",
        "\n",
        "            # nn.Linear(2*256, 256),\n",
        "            # nn.ReLU(inplace=True),\n",
        "            # nn.BatchNorm1d(256),\n",
        "\n",
        "\n",
        "            nn.Linear(512*4, 4),\n",
        "            nn.BatchNorm1d(4),\n",
        "            # nn.Softmax(),\n",
        "        )\n",
        "\n",
        "    def forward(self, x):\n",
        "        x = self.conv_net(x)\n",
        "        x = self.fc_net(x)\n",
        "        return x\n",
        "\n",
        "# Create an instance of the nn.module class defined above:\n",
        "net = BaseNet()\n",
        "net = net.float()\n",
        "if IS_GPU:\n",
        "    net = net.cuda()"
      ],
      "execution_count": 0,
      "outputs": []
    },
    {
      "cell_type": "code",
      "metadata": {
        "id": "Gc5t-q2wUwIR",
        "colab_type": "code",
        "outputId": "86fb6cdf-889b-44d4-fa9c-580e50c42536",
        "colab": {
          "base_uri": "https://localhost:8080/",
          "height": 593
        }
      },
      "source": [
        "from torchsummary import summary\n",
        "summary(net, (13,216), 32)"
      ],
      "execution_count": 0,
      "outputs": [
        {
          "output_type": "stream",
          "text": [
            "----------------------------------------------------------------\n",
            "        Layer (type)               Output Shape         Param #\n",
            "================================================================\n",
            "            Conv1d-1             [32, 256, 216]          16,896\n",
            "       BatchNorm1d-2             [32, 256, 216]             512\n",
            "              ReLU-3             [32, 256, 216]               0\n",
            "         MaxPool1d-4              [32, 256, 72]               0\n",
            "            Conv1d-5              [32, 512, 72]         655,872\n",
            "       BatchNorm1d-6              [32, 512, 72]           1,024\n",
            "              ReLU-7              [32, 512, 72]               0\n",
            "         MaxPool1d-8              [32, 512, 24]               0\n",
            "           Dropout-9              [32, 512, 24]               0\n",
            "           Conv1d-10              [32, 512, 24]       1,311,232\n",
            "      BatchNorm1d-11              [32, 512, 24]           1,024\n",
            "             ReLU-12              [32, 512, 24]               0\n",
            "        MaxPool1d-13               [32, 512, 8]               0\n",
            "           Conv1d-14               [32, 512, 8]       1,311,232\n",
            "      BatchNorm1d-15               [32, 512, 8]           1,024\n",
            "             ReLU-16               [32, 512, 8]               0\n",
            "        MaxPool1d-17               [32, 512, 4]               0\n",
            "          Flatten-18                 [32, 2048]               0\n",
            "           Linear-19                    [32, 4]           8,196\n",
            "      BatchNorm1d-20                    [32, 4]               8\n",
            "================================================================\n",
            "Total params: 3,307,020\n",
            "Trainable params: 3,307,020\n",
            "Non-trainable params: 0\n",
            "----------------------------------------------------------------\n",
            "Input size (MB): 0.34\n",
            "Forward/backward pass size (MB): 92.00\n",
            "Params size (MB): 12.62\n",
            "Estimated Total Size (MB): 104.96\n",
            "----------------------------------------------------------------\n"
          ],
          "name": "stdout"
        }
      ]
    },
    {
      "cell_type": "code",
      "metadata": {
        "id": "ocdFNJblqDRL",
        "colab_type": "code",
        "colab": {}
      },
      "source": [
        "import torch.optim as optim\n",
        "criterion = nn.CrossEntropyLoss()\n",
        "\n",
        "# optimizer = optim.SGD(net.parameters(), lr=0.00001, momentum=0.9)\n",
        "optimizer = optim.RMSprop(net.parameters(), lr=0.0001, weight_decay=1e-6)\n",
        "# optimizer = optim.Adadelta(net.parameters(),lr=0.002)\n",
        "\n",
        "plt.ioff()\n",
        "fig = plt.figure()\n",
        "train_loss_over_epochs = []\n",
        "val_accuracy_over_epochs = []"
      ],
      "execution_count": 0,
      "outputs": []
    },
    {
      "cell_type": "code",
      "metadata": {
        "id": "eu5Im3mYziua",
        "colab_type": "code",
        "colab": {}
      },
      "source": [
        "def calculate_val_accuracy(is_gpu):\n",
        "    correct = 0.\n",
        "    total = 0.\n",
        "    predictions = []\n",
        "\n",
        "    class_correct = list(0. for i in range(4))\n",
        "    class_total = list(0. for i in range(4))\n",
        "\n",
        "    for i in range(int(test_feature.shape[0]/n_batches)+1):\n",
        "    # Local batches and labels\n",
        "      if (i+1)*n_batches > test_feature.shape[0]:\n",
        "          testData, labels = val_feature[i*n_batches:,:], val_label[i*n_batches:]\n",
        "      else:\n",
        "          testData, labels = val_feature[i*n_batches:(i+1)*n_batches,:], val_label[i*n_batches:(i+1)*n_batches]\n",
        "\n",
        "      inputs = torch.from_numpy(testData)\n",
        "      #inputs = torch.unsqueeze(testData,1)\n",
        "      labels = torch.from_numpy(np.array(labels))\n",
        "\n",
        "      if IS_GPU:\n",
        "          inputs = inputs.cuda()\n",
        "          labels = labels.cuda()\n",
        "\n",
        "      inputs = Variable((inputs))\n",
        "      labels = Variable(((labels)))\n",
        "      \n",
        "      outputs = net(inputs.float())\n",
        "      _, predicted = torch.max(outputs.data, 1)\n",
        "      predictions.extend(list(predicted.cpu().numpy()))\n",
        "\n",
        "      total += labels.size(0)\n",
        "      correct += (predicted == labels).sum()\n",
        "\n",
        "      c = (predicted == labels).squeeze()\n",
        "      for i in range(len(labels)):\n",
        "          label = labels[i]\n",
        "          class_correct[label] += c[i]\n",
        "          class_total[label] += 1\n",
        "\n",
        "    class_accuracy = 100 * np.divide(class_correct, class_total)\n",
        "    return 100*correct/total, class_accuracy"
      ],
      "execution_count": 0,
      "outputs": []
    },
    {
      "cell_type": "code",
      "metadata": {
        "id": "kNJydigDqFJT",
        "colab_type": "code",
        "outputId": "ebf0723a-1a5a-44c7-fc5d-c88494e0e8e6",
        "colab": {
          "base_uri": "https://localhost:8080/",
          "height": 1000
        }
      },
      "source": [
        "# Train the network\n",
        "n_batches = 32\n",
        "EPOCHS = 100\n",
        "\n",
        "for epoch in range(EPOCHS):  # loop over the dataset multiple times\n",
        "\n",
        "    running_loss = 0.0\n",
        "    for i in range(int(train_feature.shape[0]/n_batches)+1):\n",
        "        # Local batches and labels\n",
        "        if (i+1)*n_batches > train_feature.shape[0]:\n",
        "            inputs, labels = train_feature[i*n_batches:,:], train_label[i*n_batches:]\n",
        "        else:\n",
        "            inputs, labels = train_feature[i*n_batches:(i+1)*n_batches,:], train_label[i*n_batches:(i+1)*n_batches]\n",
        "\n",
        "        inputs = torch.from_numpy(inputs)\n",
        "        # print(inputs.shape)\n",
        "        labels = torch.from_numpy(np.array(labels))\n",
        "\n",
        "        if IS_GPU:\n",
        "            inputs = inputs.cuda()\n",
        "            labels = labels.cuda()\n",
        "\n",
        "        # wrap them in Variable\n",
        "        inputs = Variable((inputs))\n",
        "        labels = Variable(((labels)))\n",
        "\n",
        "        # zero the parameter gradients\n",
        "        optimizer.zero_grad()\n",
        "\n",
        "        # forward + backward + optimize\n",
        "        # inputs = torch.unsqueeze(inputs,1)\n",
        "        outputs = net(inputs.float())\n",
        "        loss = criterion(outputs, labels.long())\n",
        "        loss.backward()\n",
        "        optimizer.step()\n",
        "\n",
        "        # print statistics\n",
        "        running_loss += loss.item()\n",
        "    \n",
        "    # Normalizing the loss by the total number of train batches\n",
        "    running_loss/=int(train_feature.shape[0]/n_batches)+1\n",
        "    print('[%d] loss: %.3f' %\n",
        "          (epoch + 1, running_loss))\n",
        "\n",
        "    # Scale of 0.0 to 100.0\n",
        "    # Calculate validation set accuracy of the existing model\n",
        "    val_accuracy, val_classwise_accuracy = \\\n",
        "        calculate_val_accuracy(IS_GPU)\n",
        "    print('Accuracy of the network on the val images: %d %%' % (val_accuracy))\n",
        "\n",
        "    train_loss_over_epochs.append(running_loss)\n",
        "    val_accuracy_over_epochs.append(val_accuracy)\n",
        "\n",
        "\n",
        "\n",
        "f, axes = plt.subplots(2, 1, figsize=(15,4))\n",
        "f.tight_layout()\n",
        "# plt.subplot(2, 1, 1)\n",
        "axes[0].set_ylabel('Train loss')\n",
        "axes[0].plot(np.arange(EPOCHS), train_loss_over_epochs, '-*', color='orange')\n",
        "axes[0].set_title('train loss and val accuracy')\n",
        "axes[0].set_xticks(np.arange(EPOCHS, dtype=int, step=10))\n",
        "axes[0].grid(True)\n",
        "axes[0].figure.savefig(\"loss.png\")\n",
        "\n",
        "acc_lst = [x.item() for x in val_accuracy_over_epochs]\n",
        "max_idx = np.argmax(acc_lst)\n",
        "# plt.subplot(2, 1, 2, figsize=(20,4))\n",
        "markers_on = [max_idx]\n",
        "axes[1].autoscale(axis='y')\n",
        "axes[1].plot(np.arange(EPOCHS), val_accuracy_over_epochs, '-bD', markevery=markers_on)\n",
        "axes[1].text(max_idx, val_accuracy_over_epochs[max_idx].item(), str(format(val_accuracy_over_epochs[max_idx].item(), \".2f\")+\"%\"), fontsize=13)\n",
        "axes[1].set_ylabel('Val accuracy')\n",
        "axes[1].set_xlabel('Epochs')\n",
        "axes[1].set_xticks(np.arange(EPOCHS, dtype=int, step=10))\n",
        "axes[1].grid(True)\n",
        "axes[1].figure.savefig(\"accuracy.png\")\n",
        "# axes[1].close(fig)\n",
        "plt.show()\n",
        "print('Finished Training')\n",
        "# -------------"
      ],
      "execution_count": 0,
      "outputs": [
        {
          "output_type": "stream",
          "text": [
            "[1] loss: 0.722\n",
            "Accuracy of the network on the val images: 80 %\n",
            "[2] loss: 0.514\n",
            "Accuracy of the network on the val images: 86 %\n",
            "[3] loss: 0.431\n",
            "Accuracy of the network on the val images: 86 %\n",
            "[4] loss: 0.374\n",
            "Accuracy of the network on the val images: 88 %\n",
            "[5] loss: 0.344\n",
            "Accuracy of the network on the val images: 87 %\n",
            "[6] loss: 0.322\n",
            "Accuracy of the network on the val images: 87 %\n",
            "[7] loss: 0.314\n",
            "Accuracy of the network on the val images: 88 %\n",
            "[8] loss: 0.301\n",
            "Accuracy of the network on the val images: 86 %\n",
            "[9] loss: 0.295\n",
            "Accuracy of the network on the val images: 90 %\n",
            "[10] loss: 0.292\n",
            "Accuracy of the network on the val images: 86 %\n",
            "[11] loss: 0.284\n",
            "Accuracy of the network on the val images: 91 %\n",
            "[12] loss: 0.275\n",
            "Accuracy of the network on the val images: 88 %\n",
            "[13] loss: 0.273\n",
            "Accuracy of the network on the val images: 88 %\n",
            "[14] loss: 0.271\n",
            "Accuracy of the network on the val images: 87 %\n",
            "[15] loss: 0.264\n",
            "Accuracy of the network on the val images: 86 %\n",
            "[16] loss: 0.258\n",
            "Accuracy of the network on the val images: 87 %\n",
            "[17] loss: 0.255\n",
            "Accuracy of the network on the val images: 89 %\n",
            "[18] loss: 0.253\n",
            "Accuracy of the network on the val images: 90 %\n",
            "[19] loss: 0.249\n",
            "Accuracy of the network on the val images: 88 %\n",
            "[20] loss: 0.243\n",
            "Accuracy of the network on the val images: 90 %\n",
            "[21] loss: 0.240\n",
            "Accuracy of the network on the val images: 88 %\n",
            "[22] loss: 0.241\n",
            "Accuracy of the network on the val images: 89 %\n",
            "[23] loss: 0.234\n",
            "Accuracy of the network on the val images: 90 %\n",
            "[24] loss: 0.229\n",
            "Accuracy of the network on the val images: 90 %\n",
            "[25] loss: 0.227\n",
            "Accuracy of the network on the val images: 91 %\n",
            "[26] loss: 0.225\n",
            "Accuracy of the network on the val images: 89 %\n",
            "[27] loss: 0.223\n",
            "Accuracy of the network on the val images: 91 %\n",
            "[28] loss: 0.220\n",
            "Accuracy of the network on the val images: 91 %\n",
            "[29] loss: 0.216\n",
            "Accuracy of the network on the val images: 91 %\n",
            "[30] loss: 0.212\n",
            "Accuracy of the network on the val images: 90 %\n",
            "[31] loss: 0.211\n",
            "Accuracy of the network on the val images: 91 %\n",
            "[32] loss: 0.208\n",
            "Accuracy of the network on the val images: 90 %\n",
            "[33] loss: 0.206\n",
            "Accuracy of the network on the val images: 90 %\n",
            "[34] loss: 0.203\n",
            "Accuracy of the network on the val images: 91 %\n",
            "[35] loss: 0.199\n",
            "Accuracy of the network on the val images: 91 %\n",
            "[36] loss: 0.197\n",
            "Accuracy of the network on the val images: 90 %\n",
            "[37] loss: 0.195\n",
            "Accuracy of the network on the val images: 90 %\n",
            "[38] loss: 0.193\n",
            "Accuracy of the network on the val images: 91 %\n",
            "[39] loss: 0.189\n",
            "Accuracy of the network on the val images: 91 %\n",
            "[40] loss: 0.187\n",
            "Accuracy of the network on the val images: 90 %\n",
            "[41] loss: 0.184\n",
            "Accuracy of the network on the val images: 92 %\n",
            "[42] loss: 0.183\n",
            "Accuracy of the network on the val images: 90 %\n",
            "[43] loss: 0.181\n",
            "Accuracy of the network on the val images: 90 %\n",
            "[44] loss: 0.178\n",
            "Accuracy of the network on the val images: 90 %\n",
            "[45] loss: 0.175\n",
            "Accuracy of the network on the val images: 92 %\n",
            "[46] loss: 0.173\n",
            "Accuracy of the network on the val images: 90 %\n",
            "[47] loss: 0.171\n",
            "Accuracy of the network on the val images: 90 %\n",
            "[48] loss: 0.169\n",
            "Accuracy of the network on the val images: 91 %\n",
            "[49] loss: 0.167\n",
            "Accuracy of the network on the val images: 91 %\n",
            "[50] loss: 0.166\n",
            "Accuracy of the network on the val images: 91 %\n",
            "[51] loss: 0.163\n",
            "Accuracy of the network on the val images: 90 %\n",
            "[52] loss: 0.160\n",
            "Accuracy of the network on the val images: 91 %\n",
            "[53] loss: 0.158\n",
            "Accuracy of the network on the val images: 90 %\n",
            "[54] loss: 0.157\n",
            "Accuracy of the network on the val images: 90 %\n",
            "[55] loss: 0.155\n",
            "Accuracy of the network on the val images: 91 %\n",
            "[56] loss: 0.153\n",
            "Accuracy of the network on the val images: 90 %\n",
            "[57] loss: 0.151\n",
            "Accuracy of the network on the val images: 91 %\n",
            "[58] loss: 0.149\n",
            "Accuracy of the network on the val images: 91 %\n",
            "[59] loss: 0.148\n",
            "Accuracy of the network on the val images: 90 %\n",
            "[60] loss: 0.146\n",
            "Accuracy of the network on the val images: 91 %\n",
            "[61] loss: 0.144\n",
            "Accuracy of the network on the val images: 89 %\n",
            "[62] loss: 0.142\n",
            "Accuracy of the network on the val images: 90 %\n",
            "[63] loss: 0.140\n",
            "Accuracy of the network on the val images: 91 %\n",
            "[64] loss: 0.139\n",
            "Accuracy of the network on the val images: 90 %\n",
            "[65] loss: 0.137\n",
            "Accuracy of the network on the val images: 90 %\n",
            "[66] loss: 0.135\n",
            "Accuracy of the network on the val images: 91 %\n",
            "[67] loss: 0.133\n",
            "Accuracy of the network on the val images: 91 %\n",
            "[68] loss: 0.131\n",
            "Accuracy of the network on the val images: 90 %\n",
            "[69] loss: 0.130\n",
            "Accuracy of the network on the val images: 91 %\n",
            "[70] loss: 0.129\n",
            "Accuracy of the network on the val images: 89 %\n",
            "[71] loss: 0.127\n",
            "Accuracy of the network on the val images: 91 %\n",
            "[72] loss: 0.125\n",
            "Accuracy of the network on the val images: 90 %\n",
            "[73] loss: 0.124\n",
            "Accuracy of the network on the val images: 90 %\n",
            "[74] loss: 0.122\n",
            "Accuracy of the network on the val images: 90 %\n",
            "[75] loss: 0.121\n",
            "Accuracy of the network on the val images: 91 %\n",
            "[76] loss: 0.119\n",
            "Accuracy of the network on the val images: 90 %\n",
            "[77] loss: 0.118\n",
            "Accuracy of the network on the val images: 90 %\n",
            "[78] loss: 0.117\n",
            "Accuracy of the network on the val images: 90 %\n",
            "[79] loss: 0.115\n",
            "Accuracy of the network on the val images: 90 %\n",
            "[80] loss: 0.113\n",
            "Accuracy of the network on the val images: 89 %\n",
            "[81] loss: 0.112\n",
            "Accuracy of the network on the val images: 90 %\n",
            "[82] loss: 0.111\n",
            "Accuracy of the network on the val images: 91 %\n",
            "[83] loss: 0.110\n",
            "Accuracy of the network on the val images: 90 %\n",
            "[84] loss: 0.108\n",
            "Accuracy of the network on the val images: 90 %\n",
            "[85] loss: 0.106\n",
            "Accuracy of the network on the val images: 91 %\n",
            "[86] loss: 0.105\n",
            "Accuracy of the network on the val images: 91 %\n",
            "[87] loss: 0.104\n",
            "Accuracy of the network on the val images: 90 %\n",
            "[88] loss: 0.103\n",
            "Accuracy of the network on the val images: 91 %\n",
            "[89] loss: 0.101\n",
            "Accuracy of the network on the val images: 90 %\n",
            "[90] loss: 0.100\n",
            "Accuracy of the network on the val images: 90 %\n",
            "[91] loss: 0.099\n",
            "Accuracy of the network on the val images: 91 %\n",
            "[92] loss: 0.098\n",
            "Accuracy of the network on the val images: 91 %\n",
            "[93] loss: 0.096\n",
            "Accuracy of the network on the val images: 90 %\n",
            "[94] loss: 0.095\n",
            "Accuracy of the network on the val images: 90 %\n",
            "[95] loss: 0.094\n",
            "Accuracy of the network on the val images: 92 %\n",
            "[96] loss: 0.093\n",
            "Accuracy of the network on the val images: 90 %\n",
            "[97] loss: 0.092\n",
            "Accuracy of the network on the val images: 91 %\n",
            "[98] loss: 0.091\n",
            "Accuracy of the network on the val images: 90 %\n",
            "[99] loss: 0.090\n",
            "Accuracy of the network on the val images: 91 %\n",
            "[100] loss: 0.089\n",
            "Accuracy of the network on the val images: 90 %\n"
          ],
          "name": "stdout"
        },
        {
          "output_type": "display_data",
          "data": {
            "text/plain": [
              "<Figure size 432x288 with 0 Axes>"
            ]
          },
          "metadata": {
            "tags": []
          }
        },
        {
          "output_type": "display_data",
          "data": {
            "image/png": "[encoded data removed]",
            "text/plain": [
              "<Figure size 1080x288 with 2 Axes>"
            ]
          },
          "metadata": {
            "tags": []
          }
        },
        {
          "output_type": "stream",
          "text": [
            "Finished Training\n"
          ],
          "name": "stdout"
        }
      ]
    },
    {
      "cell_type": "code",
      "metadata": {
        "id": "FHKthlmWqHkD",
        "colab_type": "code",
        "outputId": "8d3b729f-8149-468f-be72-230f5cafdc1e",
        "colab": {
          "base_uri": "https://localhost:8080/",
          "height": 845
        }
      },
      "source": [
        "\n",
        "net.eval()\n",
        "\n",
        "total = 0\n",
        "predictions = []\n",
        "n_batches = 32\n",
        "# for i in range(test_feature.shape[0]):\n",
        "correct = 0.\n",
        "total = 0.\n",
        "predictions = []\n",
        "TOTAL_CLASSES = 4\n",
        "class_correct = list(0. for i in range(TOTAL_CLASSES))\n",
        "class_total = list(0. for i in range(TOTAL_CLASSES))\n",
        "\n",
        "for i in range(int(test_feature.shape[0]/n_batches)+1):\n",
        "  # Local batches and labels\n",
        "  if (i+1)*n_batches > test_feature.shape[0]:\n",
        "      testData, labels = test_feature[i*n_batches:,:], test_label[i*n_batches:]\n",
        "  else:\n",
        "      testData, labels = test_feature[i*n_batches:(i+1)*n_batches,:], test_label[i*n_batches:(i+1)*n_batches]\n",
        "\n",
        "  # testData, label = test_feature, test_label\n",
        "\n",
        "  testData = torch.from_numpy(testData)\n",
        "  labels = torch.from_numpy(np.array(labels))\n",
        "\n",
        "  if IS_GPU:\n",
        "    testData = testData.cuda()\n",
        "    labels = labels.cuda()\n",
        "\n",
        "  testData = Variable(testData)\n",
        "  outputs = net(testData.float())\n",
        "  _, predicted = torch.max(outputs.data, 1)\n",
        "  predictions.extend(list(predicted.cpu().numpy()))\n",
        "  # total += label.size(0)\n",
        "\n",
        "  correct += (predicted == labels).sum()\n",
        "  c = (predicted == labels).squeeze()\n",
        "  for i in range(len(labels)):\n",
        "      label = labels[i]\n",
        "      class_correct[label] += c[i]\n",
        "      class_total[label] += 1\n",
        "\n",
        "acc = 0\n",
        "for l_i, label in enumerate(predictions):\n",
        "    if label == test_label[l_i]:\n",
        "        acc += 1\n",
        "    # print([str(l_i), str(label)], test_label[l_i])\n",
        "class_accuracy = 100 * np.divide(class_correct, class_total)\n",
        "print(\"class_accuracy\", class_accuracy)\n",
        "print(\"accuracy\", acc/len(test_label))\n",
        "\n",
        "C = np.histogram2d(predictions, test_label, bins=4)[0]\n",
        "print(\"C\", C)\n",
        "my_xticks = ['happy','sad','angry','fear']\n",
        "\n",
        "df_cm = pd.DataFrame(C, index=[i for i in my_xticks], columns=[i for i in my_xticks])\n",
        "plt.figure(figsize = (10,7))\n",
        "plt.title(\"Confusion matrix over 4 classes\")\n",
        "sn.heatmap(df_cm, annot=True)\n",
        "\n",
        "f, ax = plt.subplots(figsize=(4,4))\n",
        "x = np.arange(1,5)\n",
        "idx = np.array([0,1,2,3])\n",
        "ax.set_xticks(x)\n",
        "ax.set_xticklabels(my_xticks)\n",
        "for i in range(4):\n",
        "  ax.text(i+0.56, class_accuracy[i].item()+0.4, str(format(class_accuracy[i].item(), \".2f\")+\"%\"), fontsize=13)\n",
        "ax.bar(x, class_accuracy, color='orange')\n",
        "ax.set_ylim(bottom=80, top=100)\n",
        "ax.set_ylabel('test accuracy')\n",
        "ax.set_title('Test Accuracy Over 4 Claases \\n Average accuracy: ' + str(format(acc/len(test_label),\".2%\")))\n",
        "ax.grid(True)\n",
        "ax.figure.savefig(\"test_acc.png\")\n",
        "plt.show()"
      ],
      "execution_count": 0,
      "outputs": [
        {
          "output_type": "stream",
          "text": [
            "class_accuracy [tensor(92., device='cuda:0') tensor(98.2456, device='cuda:0')\n",
            " tensor(97.0149, device='cuda:0') tensor(95.1613, device='cuda:0')]\n",
            "accuracy 0.9540229885057471\n",
            "C [[69.  0.  0.  2.]\n",
            " [ 1. 56.  2.  1.]\n",
            " [ 1.  0. 65.  0.]\n",
            " [ 4.  1.  0. 59.]]\n"
          ],
          "name": "stdout"
        },
        {
          "output_type": "display_data",
          "data": {
            "image/png": "[encoded data removed]",
            "text/plain": [
              "<Figure size 720x504 with 2 Axes>"
            ]
          },
          "metadata": {
            "tags": []
          }
        },
        {
          "output_type": "display_data",
          "data": {
            "image/png": "[encoded data removed]",
            "text/plain": [
              "<Figure size 288x288 with 1 Axes>"
            ]
          },
          "metadata": {
            "tags": []
          }
        }
      ]
    }
  ]
}